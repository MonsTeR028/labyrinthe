{
 "cells": [
  {
   "cell_type": "markdown",
   "id": "64cd1cf3",
   "metadata": {},
   "source": [
    "#  <center>SAE2.02 - Labyrinthes en Python</center><hr>"
   ]
  },
  {
   "cell_type": "code",
   "execution_count": 1,
   "id": "8b937a00",
   "metadata": {
    "ExecuteTime": {
     "end_time": "2024-03-11T17:14:03.608625700Z",
     "start_time": "2024-03-11T17:13:56.475547700Z"
    }
   },
   "outputs": [],
   "source": [
    "import random\n",
    "\n",
    "class Maze:\n",
    "    \"\"\"\n",
    "    Classe Labyrinthe\n",
    "    Représentation sous forme de graphe non-orienté\n",
    "    dont chaque sommet est une cellule (un tuple (l,c))\n",
    "    et dont la structure est représentée par un dictionnaire\n",
    "      - clés : sommets\n",
    "      - valeurs : ensemble des sommets voisins accessibles\n",
    "    \"\"\"\n",
    "    def __init__(self, height, width):\n",
    "        \"\"\"\n",
    "        Constructeur d'un labyrinthe de height cellules de haut \n",
    "        et de width cellules de large \n",
    "        Les voisinages sont initialisés à des ensembles vides\n",
    "        Remarque : dans le labyrinthe créé, chaque cellule est complètement emmurée\n",
    "        \"\"\"\n",
    "        self.height    = height\n",
    "        self.width     = width\n",
    "        self.neighbors = {(i,j): set() for i in range(height) for j in range (width)}\n",
    "\n",
    "    def info(self):\n",
    "        \"\"\"\n",
    "        **NE PAS MODIFIER CETTE MÉTHODE**\n",
    "        Affichage des attributs d'un objet 'Maze' (fonction utile pour deboguer)\n",
    "        Retour:\n",
    "            chaîne (string): description textuelle des attributs de l'objet\n",
    "        \"\"\"\n",
    "        txt = \"**Informations sur le labyrinthe**\\n\"\n",
    "        txt += f\"- Dimensions de la grille : {self.height} x {self.width}\\n\"\n",
    "        txt += \"- Voisinages :\\n\"\n",
    "        txt += str(self.neighbors)+\"\\n\"\n",
    "        valid = True\n",
    "        for c1 in {(i, j) for i in range(self.height) for j in range(self.width)}:\n",
    "            for c2 in self.neighbors[c1]:\n",
    "                if c1 not in self.neighbors[c2]:\n",
    "                    valid = False\n",
    "                    break\n",
    "            else:\n",
    "                continue\n",
    "            break\n",
    "        txt += \"- Structure cohérente\\n\" if valid else f\"- Structure incohérente : {c1} X {c2}\\n\"\n",
    "        return txt\n",
    "\n",
    "    def __str__(self):\n",
    "        \"\"\"\n",
    "        **NE PAS MODIFIER CETTE MÉTHODE**\n",
    "        Représentation textuelle d'un objet Maze (en utilisant des caractères ascii)\n",
    "        Retour:\n",
    "             chaîne (str) : chaîne de caractères représentant le labyrinthe\n",
    "        \"\"\"\n",
    "        txt = \"\"\n",
    "        # Première ligne\n",
    "        txt += \"┏\"\n",
    "        for j in range(self.width-1):\n",
    "            txt += \"━━━┳\"\n",
    "        txt += \"━━━┓\\n\"\n",
    "        txt += \"┃\"\n",
    "        for j in range(self.width-1):\n",
    "            txt += \"   ┃\" if (0,j+1) not in self.neighbors[(0,j)] else \"    \"\n",
    "        txt += \"   ┃\\n\"\n",
    "        # Lignes normales\n",
    "        for i in range(self.height-1):\n",
    "            txt += \"┣\"\n",
    "            for j in range(self.width-1):\n",
    "                txt += \"━━━╋\" if (i+1,j) not in self.neighbors[(i,j)] else \"   ╋\"\n",
    "            txt += \"━━━┫\\n\" if (i+1,self.width-1) not in self.neighbors[(i,self.width-1)] else \"   ┫\\n\"\n",
    "            txt += \"┃\"\n",
    "            for j in range(self.width):\n",
    "                txt += \"   ┃\" if (i+1,j+1) not in self.neighbors[(i+1,j)] else \"    \"\n",
    "            txt += \"\\n\"\n",
    "        # Bas du tableau\n",
    "        txt += \"┗\"\n",
    "        for i in range(self.width-1):\n",
    "            txt += \"━━━┻\"\n",
    "        txt += \"━━━┛\\n\"\n",
    "\n",
    "        return txt\n",
    "    \n",
    "    def add_wall(self, c1: tuple, c2: tuple) -> None:\n",
    "        \"\"\"\n",
    "        Cette méthode d'instance permet d'ajouter un murs entre deux cellules, ce qui revient à supprimer liaison entre ces deux cellules.\n",
    "        :param c1: Première cellule (tuple)\n",
    "        :param c2: Deuxième cellule (tuple)\n",
    "        \"\"\"\n",
    "        # Facultatif : on teste si les sommets sont bien dans le labyrinthe\n",
    "        assert 0 <= c1[0] < self.height and \\\n",
    "            0 <= c1[1] < self.width and \\\n",
    "            0 <= c2[0] < self.height and \\\n",
    "            0 <= c2[1] < self.width, \\\n",
    "            f\"Erreur lors de l'ajout d'un mur entre {c1} et {c2} : les coordonnées de sont pas compatibles avec les dimensions du labyrinthe\"\n",
    "        # Ajout du mur\n",
    "        if c2 in self.neighbors[c1]:      # Si c2 est dans les voisines de c1\n",
    "            self.neighbors[c1].remove(c2) # on le retire\n",
    "        if c1 in self.neighbors[c2]:      # Si c3 est dans les voisines de c2\n",
    "            self.neighbors[c2].remove(c1) # on le retire\n",
    "            \n",
    "    def remove_wall(self, c1: tuple, c2: tuple) -> None:\n",
    "        \"\"\"\n",
    "        Cette méthode d'instance permet d'enlever le mur entre deux cellules, ce qui revient à ajouter une liaison entre les deux cellules.\n",
    "        :param c1: Première cellule (tuple)\n",
    "        :param c2: Deuxième cellule (tuple)\n",
    "        \"\"\"\n",
    "        self.neighbors[c1].add(c2)       \n",
    "        self.neighbors[c2].add(c1) \n",
    "        \n",
    "    def get_cells(self) -> list:\n",
    "        \"\"\"\n",
    "        Cette méthode qui crée une liste de toutes les cellules du labyrinthe\n",
    "        :return: Retourne la liste de toutes les cellules du labyrinthe\n",
    "        \"\"\"\n",
    "        cellules = []\n",
    "        for i in range(0,self.height):\n",
    "            for j in range(0,self.width):\n",
    "                cellules.append((i,j))\n",
    "        return cellules\n",
    "         \n",
    "    def get_walls(self) -> list:\n",
    "        \"\"\"\n",
    "        Méthode d'instance qui permet de savoir la liste de tout les murs (deux cellules voisines)\n",
    "        :return: Retourne la liste des murs\n",
    "        \"\"\"\n",
    "        walls = []\n",
    "        for c1 in self.get_cells():\n",
    "            c2 = (c1[0],c1[1]+1)\n",
    "            c3 = (c1[0]+1,c1[1])\n",
    "            if c1[1]+1 < self.width and c2 not in self.neighbors[c1]:\n",
    "                walls.append((c1,c2))\n",
    "            if c1[0]+1 < self.height and c3 not in self.neighbors[c1]:\n",
    "                walls.append((c1,c3))\n",
    "        return walls\n",
    "    \n",
    "    def fill(self) -> None:\n",
    "        \"\"\"\n",
    "        Méthode d'instance qui permet de remplir entierement un labyrinthe de murs, ce qui reviens à relier toutes les cellules entre elles.\n",
    "        \"\"\"\n",
    "        for c1 in self.get_cells():\n",
    "            c2 = (c1[0],c1[1]+1)\n",
    "            c3 = (c1[0]+1,c1[1])\n",
    "            if c2 in self.neighbors[c1]:\n",
    "                self.add_wall(c1,c2)\n",
    "            if c3 in self.neighbors[c1]:\n",
    "                self.add_wall(c1,c3)\n",
    "    \n",
    "    def empty(self) -> None:\n",
    "        \"\"\"\n",
    "        Méthode d'instance qui permet de casser tout les murs du labyrinthe, ce qui revient à enlever les liaison entres toutes les cellules.\n",
    "        \"\"\"\n",
    "        for c1 in self.get_cells():\n",
    "            c2 = (c1[0], c1[1] + 1)\n",
    "            c3 = (c1[0] + 1, c1[1])\n",
    "            if c1[1]+1 < self.width:\n",
    "                self.remove_wall(c1, c2)\n",
    "            if c1[0]+1 < self.height:\n",
    "                self.remove_wall(c1, c3)\n",
    "                \n",
    "    def get_contiguous_cells(self, c: tuple) -> list:\n",
    "        \"\"\"\n",
    "        Méthode d'instance qui renvoie la liste de tout les voisins de la cellule entrée en paramètre, même si un murs les sépare.\n",
    "        :param c: Cellule (tuple)\n",
    "        :return: Retourne la liste des voisins de la cellule c, même s'ils ne sont pas explicitement relier d'une arête.\n",
    "        \"\"\"\n",
    "        listeContigue = []\n",
    "        if c[1] - 1 >= 0:\n",
    "            listeContigue.append((c[0], c[1] - 1))\n",
    "        if c[1] + 1 < self.width:\n",
    "            listeContigue.append((c[0], c[1] + 1))\n",
    "        if c[0] - 1 >= 0:\n",
    "            listeContigue.append((c[0] - 1, c[1]))\n",
    "        if c[0] + 1 < self.height:\n",
    "            listeContigue.append((c[0] + 1, c[1]))\n",
    "        return listeContigue \n",
    "    \n",
    "    def get_reachable_cells(self, c: tuple) -> list:\n",
    "        \"\"\"\n",
    "        Méthode d'instance qui renvoie la liste des voisins de la cellule entrée en paramètre qui sont accésibles, c'est-à-dire les voisins relié par une arête.\n",
    "        :param c: Cellule (tuple)\n",
    "        :return: Retoune la liste des voisins atteignable depuis la cellule c\n",
    "        \"\"\"\n",
    "        listeAccessible = []\n",
    "        for c1 in self.get_contiguous_cells(c):\n",
    "            if c1 in self.neighbors[c]:\n",
    "                listeAccessible.append(c1)\n",
    "        return listeAccessible\n",
    "\n",
    "    @classmethod\n",
    "    def gen_btree(cls, h: int, w: int):\n",
    "        \"\"\"\n",
    "        Méthode de classe qui génére un labyrinthe parfait grâce à la méthode des arbre binaire, c'est à dire que l'on casse aléatoirement pour toutes les cellules du labyrinthe soit le mur SUD soit le mur EST.\n",
    "        :param h: Hauteur du labyrinthe généré\n",
    "        :param w: Longueur du labyrinthe généré\n",
    "        :return: Retourne une construction différente du labyrinthe, un labyrinthe parfait généré à l'aide des arbre binaire\n",
    "        \"\"\"\n",
    "        cls = Maze(h, w)\n",
    "        cEst = None\n",
    "        cSud = None\n",
    "        for cellule in cls.get_cells():\n",
    "            if cellule[1]+1 < w:\n",
    "                cEst = (cellule[0], cellule[1]+1)\n",
    "            if cellule[0]+1 < h:\n",
    "                cSud = (cellule[0]+1, cellule[1])\n",
    "                \n",
    "            if cEst == (cellule[0], cellule[1]+1) and \\\n",
    "                    cSud == (cellule[0]+1, cellule[1]):\n",
    "                if random.randint(1,2) == 1:\n",
    "                    cls.remove_wall(cellule, cEst)\n",
    "                else:\n",
    "                    cls.remove_wall(cellule, cSud)\n",
    "                    \n",
    "            if (cEst == (cellule[0], cellule[1]+1)) ^ \\\n",
    "                    (cSud == (cellule[0]+1, cellule[1])):\n",
    "                if cEst == (cellule[0], cellule[1]+1):\n",
    "                    cls.remove_wall(cellule, cEst)\n",
    "                if cSud == (cellule[0]+1, cellule[1]):\n",
    "                    cls.remove_wall(cellule, cSud)\n",
    "        return cls\n",
    "    \n",
    "    @classmethod\n",
    "    def gen_sidewinder(cls, h: int, w: int):\n",
    "        \"\"\"\n",
    "        Méthode de classe qui génére un labyrinthe parfait grâce à l'algorithme sidewinder, c'est à dire que opère ligne par lignes, on casse au hasard le murs EST, ou un murs SUD au hasard sur la même ligne du début jusqu'à la cellule.\n",
    "        :param h: Hauteur du labyrinthe généré\n",
    "        :param w: Longueur du labyrinthe généré\n",
    "        :return: Retourne une construction différente du labyrinthe, un labyrinthe parfait généré à l'aide de l'algorithme sidewinder.\n",
    "        \"\"\"\n",
    "        cls = Maze(h, w)\n",
    "        for i in range(h-1):\n",
    "            sequence = []\n",
    "            for j in range(w-1):\n",
    "                sequence.append((i, j))\n",
    "                choix = random.randint(1, 2)\n",
    "                if choix == 1:\n",
    "                    cls.remove_wall(sequence[-1], (sequence[-1][0], sequence[-1][1]+1))\n",
    "                else:\n",
    "                    choisit = random.randint(0, len(sequence)-1)\n",
    "                    cls.remove_wall(sequence[choisit], (sequence[choisit][0]+1, sequence[choisit][1]))\n",
    "                    sequence = []\n",
    "            sequence.append((i, j+1))\n",
    "            choisitFin = random.randint(0, len(sequence)-1)\n",
    "            cls.remove_wall(sequence[choisitFin], (sequence[choisitFin][0]+1, sequence[choisitFin][1]))\n",
    "        for cellule in range(w-1):\n",
    "            cls.remove_wall((h-1, cellule), (h-1, cellule+1))\n",
    "        return cls \n",
    "    \n",
    "    @classmethod\n",
    "    def gen_fusion(cls,h: int,w: int):\n",
    "        \"\"\"\n",
    "        Méthode de classe qui génére un labyrinthe parfait grâce à la méthode grâce à l'algorithme de la fusion de chemin, c'est-à-dire que l'on va labéliser toutes les cellules, et supprimer des murs au hasard sans crée de boucles ce qui va changer le label d'une cellule par une autre par diffusion.\n",
    "        :param h: Hauteur du labyrinthe généré\n",
    "        :param w: Longueur du labyrinthe généré\n",
    "        :return: Retourne une construction différente du labyrinthe, un labyrinthe parfait généré à l'aide de l'algorithme de la fusion de chemin.\n",
    "        \"\"\"\n",
    "        cls = Maze(h, w)\n",
    "        labels = []\n",
    "        for i in range(h):\n",
    "            for j in range(w):\n",
    "                labels.append(i * w + j)\n",
    "        walls = cls.get_walls()\n",
    "        random.shuffle(walls)\n",
    "        for wall in range(len(walls)): \n",
    "            c1 = walls[wall][0]\n",
    "            c2 = walls[wall][1]\n",
    "            label_c1 = labels[c1[0] * w + c1[1]]\n",
    "            label_c2 = labels[c2[0] * w + c2[1]]\n",
    "            if label_c1 != label_c2 :\n",
    "                cls.remove_wall(c1, c2)\n",
    "                labels[label_c2] = label_c1\n",
    "                for label in range(len(labels)):\n",
    "                    if labels[label] == label_c2:\n",
    "                        labels[label] = label_c1               \n",
    "        return cls\n",
    "    \n",
    "    @classmethod\n",
    "    def gen_exploration(cls, h: int, w: int):\n",
    "        \"\"\"\n",
    "        Méthode de classe qui génére un labyrinthe parfait grâce à l'algorithme de l'exploration en profondeur, c'est-à-dire que l'on va « explorer » aléatoirement le labyrinthe, à la manière d’un parcours en profondeur, en cassant les murs à mesure qu’on avance, jusqu'à temps de tomber sur un cul de sac, ou sur nos propre pas, ce qui nous forcera à revenir en arrière\n",
    "        :param h: Hauteur du labyrinthe généré\n",
    "        :param w: Longueur du labyrinthe généré\n",
    "        :return: Retourne une construction différente du labyrinthe, un labyrinthe parfait généré à l'aide de l'algorithme de l'exploration en profondeur.\n",
    "        \"\"\"\n",
    "        cls = Maze(h, w)\n",
    "        voisins = []\n",
    "        cellules = cls.get_cells()\n",
    "        cHasard = cellules[random.randint(0, len(cellules) - 1)]\n",
    "        marques = [False]*(len(cellules))\n",
    "        marques[cHasard[0] * w + cHasard[1]] = True\n",
    "        pile = [cHasard]\n",
    "        voisinsNonVisite = []\n",
    "        while len(pile) > 0:\n",
    "            cellule = pile[-1]\n",
    "            del pile[-1]\n",
    "            voisins = cls.get_contiguous_cells(cellule)\n",
    "            for voisin in voisins:\n",
    "                if marques[voisin[0] * w + voisin[1]] == False:\n",
    "                    voisinsNonVisite.append(voisin)\n",
    "            if len(voisinsNonVisite) > 0:\n",
    "                pile.append(cellule)\n",
    "                choix = random.choice(voisinsNonVisite)\n",
    "                cls.remove_wall(cellule, choix)\n",
    "                marques[choix[0] * w + choix[1]] = True\n",
    "                pile.append(choix)\n",
    "            voisinsNonVisite = []\n",
    "        return cls\n",
    "                    \n",
    "    @classmethod\n",
    "    def gen_wilson(cls, h: int, w: int):\n",
    "        \"\"\"\n",
    "        Méthode de classe qui génére un labyrinthe parfait grâce à l'algorithme de wilson, c'est à dire que tant qu'il reste des cellules non marqué on va créer des chemins de cellules non marqué, jusqu'à temps de tomber sur une cellule marqué, on supprimera ainsi tout les murs du chemin, qu'on ajoutera au cellules marqué, puis on selectionnera une nouvelle cellules non-marqué, avec laquelle on recommenra un chemin. \n",
    "        :param h: Hauteur du labyrinthe généré\n",
    "        :param w: Longueur du labyrinthe généré\n",
    "        :return: Retourne une construction différente du labyrinthe, un labyrinthe parfait généré à l'aide de l'algorithme de wilson.\n",
    "        \"\"\"\n",
    "        cls = Maze(h, w)\n",
    "        cellules = cls.get_cells()\n",
    "        cellule = random.choice(cellules)\n",
    "        marques = [cellule]\n",
    "        while len(marques) < len(cellules):\n",
    "            cellule = random.choice(cellules)\n",
    "            while cellule in marques:\n",
    "                cellule = random.choice(cellules)\n",
    "            chemin = [cellule]\n",
    "            while cellule not in marques:\n",
    "                voisins = cls.get_contiguous_cells(chemin[-1])\n",
    "                cellule = random.choice(voisins)\n",
    "                if cellule in chemin :\n",
    "                    del chemin[-1]\n",
    "                else :\n",
    "                    chemin.append(cellule)\n",
    "            for c in range(len(chemin)-1):\n",
    "                cls.remove_wall(chemin[c], chemin[c+1])\n",
    "                marques.append(chemin[c])\n",
    "        return cls\n",
    "    \n",
    "    def overlay(self, content=None):\n",
    "        \"\"\"\n",
    "        Rendu en mode texte, sur la sortie standard, \\\n",
    "        d'un labyrinthe avec du contenu dans les cellules\n",
    "        Argument:\n",
    "            content (dict) : dictionnaire tq content[cell] contient le caractère à afficher au milieu de la cellule\n",
    "        Retour:\n",
    "            string\n",
    "        \"\"\"\n",
    "        if content is None:\n",
    "            content = {(i,j):' ' for i in range(self.height) for j in range(self.width)}\n",
    "        else:\n",
    "            # Python >=3.9\n",
    "            #content = content | {(i, j): ' ' for i in range(\n",
    "            #    self.height) for j in range(self.width) if (i,j) not in content}\n",
    "            # Python <3.9\n",
    "            new_content = {(i, j): ' ' for i in range(self.height) for j in range(self.width) if (i,j) not in content}\n",
    "            content = {**content, **new_content}\n",
    "        txt = r\"\"\n",
    "        # Première ligne\n",
    "        txt += \"┏\"\n",
    "        for j in range(self.width-1):\n",
    "            txt += \"━━━┳\"\n",
    "        txt += \"━━━┓\\n\"\n",
    "        txt += \"┃\"\n",
    "        for j in range(self.width-1):\n",
    "            txt += \" \"+content[(0,j)]+\" ┃\" if (0,j+1) not in self.neighbors[(0,j)] else \" \"+content[(0,j)]+\"  \"\n",
    "        txt += \" \"+content[(0,self.width-1)]+\" ┃\\n\"\n",
    "        # Lignes normales\n",
    "        for i in range(self.height-1):\n",
    "            txt += \"┣\"\n",
    "            for j in range(self.width-1):\n",
    "                txt += \"━━━╋\" if (i+1,j) not in self.neighbors[(i,j)] else \"   ╋\"\n",
    "            txt += \"━━━┫\\n\" if (i+1,self.width-1) not in self.neighbors[(i,self.width-1)] else \"   ┫\\n\"\n",
    "            txt += \"┃\"\n",
    "            for j in range(self.width):\n",
    "                txt += \" \"+content[(i+1,j)]+\" ┃\" if (i+1,j+1) not in self.neighbors[(i+1,j)] else \" \"+content[(i+1,j)]+\"  \"\n",
    "            txt += \"\\n\"\n",
    "        # Bas du tableau\n",
    "        txt += \"┗\"\n",
    "        for i in range(self.width-1):\n",
    "            txt += \"━━━┻\"\n",
    "        txt += \"━━━┛\\n\"\n",
    "        return txt\n",
    "    \n",
    "    def solve_dfs(self, start: tuple, stop: tuple) -> list:\n",
    "        \"\"\"\n",
    "        Méthode d'instance qui résout un labyrinthe par un parcours en profondeur\n",
    "        :param start: Cellule de départ (tuple)\n",
    "        :param stop: Cellule d'arrivée (tuple)\n",
    "        :return: Retourne une liste de cellules qui forme le chemin du départ à l'arrivée grâce au parcours en profondeur\n",
    "        \"\"\"\n",
    "        pile = [start]\n",
    "        marques = [start]\n",
    "        predecesseurs = {start: start}\n",
    "        trouve = False\n",
    "        while len(pile) > 0 and trouve == False:\n",
    "            c = pile[0]\n",
    "            del pile[0]\n",
    "            if c == stop:\n",
    "                trouve = True\n",
    "            else :\n",
    "                voisins = self.get_reachable_cells(c)\n",
    "                for voisin in voisins:\n",
    "                    if voisin not in marques:\n",
    "                        marques.append(voisin)\n",
    "                        pile = [voisin] + pile\n",
    "                        predecesseurs[voisin] = c\n",
    "        # Reconstruction du chemin à partir des prédécesseurs\n",
    "        chemin = []\n",
    "        c = stop \n",
    "        while c != start:\n",
    "            chemin.append(c)\n",
    "            c = predecesseurs[c] \n",
    "        chemin.append(start)\n",
    "        return chemin \n",
    "    \n",
    "    def solve_bfs(self, start: tuple, stop: tuple) -> list:\n",
    "        \"\"\"\n",
    "        Méthode d'instance qui résout un labyrinthe par un parcours en largueur\n",
    "        :param start: Cellule de départ (tuple)\n",
    "        :param stop: Cellule d'arrivée (tuple)\n",
    "        :return: Retourne une liste de cellules qui forme le chemin du départ à l'arrivée grâce au parcours en largueur\n",
    "        \"\"\"\n",
    "        file = [start]\n",
    "        marques = [start]\n",
    "        predecesseurs = {start: start}\n",
    "        trouve = False\n",
    "        while len(file) and not trouve:\n",
    "            c = file[0]\n",
    "            del file[0]\n",
    "            if c == stop:\n",
    "                trouve = True\n",
    "            else:\n",
    "                voisins = self.get_reachable_cells(c)\n",
    "                for voisin in voisins:\n",
    "                    if voisin not in marques:\n",
    "                        marques.append(voisin)\n",
    "                        file.append(voisin)\n",
    "                        predecesseurs[voisin] = c\n",
    "         # Reconstruction du chemin à partir des prédécesseurs\n",
    "        chemin = []\n",
    "        c = stop\n",
    "        while c != start:\n",
    "            chemin.append(c)\n",
    "            c = predecesseurs[c]\n",
    "        chemin.append(start)\n",
    "        return chemin\n",
    "            \n",
    "    def solve_rhr(self, start: tuple, stop: tuple) -> list:\n",
    "        \"\"\"\n",
    "        Méthode d'instance qui resout un labyrinthe grace à la technique de \"la main droite\", c'est à dire que l'on \n",
    "        va longer le murs de droite tout du long, jusqu'à trouvé la sortie donc, la cellule d'arrivée.\n",
    "        :param start: Cellule de départ (tuple)\n",
    "        :param stop: Cellule d'arrivée (tuple)\n",
    "        :return: Retourne une liste de cellules qui forme le chemin du départ à l'arrivée grâce à la technique de la\n",
    "        main droite\n",
    "        \"\"\"\n",
    "        chemin = [start]\n",
    "        directions = ['N', 'E', 'S', 'O']\n",
    "        direction = directions[2]\n",
    "        choix = start\n",
    "        while chemin[-1] != stop:\n",
    "            voisins = self.get_reachable_cells(choix)\n",
    "            if direction == directions[0]:\n",
    "                if choix[1]+1 < self.width and (choix[0], choix[1]+1) in voisins:\n",
    "                        direction = directions[1]\n",
    "                        choix = (choix[0], choix[1]+1)\n",
    "                        chemin.append(choix)\n",
    "                else:\n",
    "                    if self.height > 0 and (choix[0]-1, choix[1]) in voisins:\n",
    "                        choix = (choix[0]-1, choix[1])\n",
    "                        chemin.append(choix)\n",
    "                    else:\n",
    "                        if self.width > 0 and (choix[0], choix[1]-1) in voisins:\n",
    "                            direction = directions[3]\n",
    "                            choix = (choix[0], choix[1]-1)\n",
    "                            chemin.append(choix)\n",
    "                        else:\n",
    "                            direction = directions[2]\n",
    "            elif direction == directions[1]:\n",
    "                if choix[0]+1 < self.height and (choix[0]+1, choix[1]) in voisins:\n",
    "                    direction = directions[2]\n",
    "                    choix = (choix[0]+1, choix[1])\n",
    "                    chemin.append(choix)\n",
    "                else:\n",
    "                    if choix[1]+1 < self.width and (choix[0], choix[1]+1) in voisins:\n",
    "                        choix = (choix[0], choix[1]+1)\n",
    "                        chemin.append(choix)\n",
    "                    else:\n",
    "                        if self.height > 0 and (choix[0]-1, choix[1]) in voisins:\n",
    "                            direction = directions[0]\n",
    "                            choix = (choix[0]-1, choix[1])\n",
    "                            chemin.append(choix)\n",
    "                        else:\n",
    "                            direction = directions[3]\n",
    "            elif direction == directions[2]:\n",
    "                if self.width > 0 and (choix[0], choix[1]-1) in voisins:\n",
    "                    direction = directions[3]\n",
    "                    choix = (choix[0], choix[1]-1)\n",
    "                    chemin.append(choix)\n",
    "                else:\n",
    "                    if choix[0]+1 < self.height and (choix[0]+1, choix[1]) in voisins:\n",
    "                        choix = (choix[0]+1, choix[1])\n",
    "                        chemin.append(choix)\n",
    "                    else:\n",
    "                        if choix[1]+1 < self.width and (choix[0], choix[1]+1) in voisins:\n",
    "                            direction = directions[1]\n",
    "                            choix = (choix[0], choix[1]+1)\n",
    "                            chemin.append(choix)\n",
    "                        else:\n",
    "                            direction = directions[0]\n",
    "            elif direction == directions[3]:\n",
    "                if self.height > 0 and (choix[0]-1, choix[1]) in voisins:\n",
    "                    direction = directions[0]\n",
    "                    choix = (choix[0]-1, choix[1])\n",
    "                    chemin.append(choix)\n",
    "                else:\n",
    "                    if self.width > 0 and (choix[0], choix[1]-1) in voisins:\n",
    "                        choix = (choix[0], choix[1]-1)\n",
    "                        chemin.append(choix)\n",
    "                    else:\n",
    "                        if choix[0]+1 < self.height and (choix[0]+1, choix[1]) in voisins:\n",
    "                            direction = directions[2]\n",
    "                            choix = (choix[0]+1, choix[1])\n",
    "                            chemin.append(choix)\n",
    "                        else:\n",
    "                            direction = directions[1]\n",
    "        return chemin\n",
    "    \n",
    "    def distance_geo(self, c1: tuple, c2: tuple) -> int:\n",
    "        \"\"\"\n",
    "        Méthode d'instance qui renvoie la distance géodésique entre la cellule c1 et c2\n",
    "        :param c1: Cellule de départ (tuple)\n",
    "        :param c2: Cellule d'arrivée (tuple)\n",
    "        :return: Renvoie la distance entre deux cellule dans un labyrinthe parfait\n",
    "        \"\"\"\n",
    "        return len(self.solve_bfs(c1, c2))\n",
    "    \n",
    "    def distance_man(self, c1: tuple, c2: tuple) -> int:\n",
    "        \"\"\"\n",
    "        Méthode d'instance qui renvoie la distance de manhattan entre la cellule c1 et c2\n",
    "        :param c1: Cellule de départ (tuple)\n",
    "        :param c2: Cellule d'arrivée (tuple)\n",
    "        :return: Renvoie la distance minimale entre les deux cellules, se basant sur un labyrinthe vide.\n",
    "        \"\"\"\n",
    "        return abs(c2[0] - c1[0]) + abs(c2[1] - c1[1])\n",
    "    \n",
    "    def propagation(self) -> list:\n",
    "        \"\"\"\n",
    "        \"\"\"\n",
    "        start = (0, 0)\n",
    "        marques = [start]\n",
    "        nbCells = self.height*self.width\n",
    "        nombres = [0]*nbCells\n",
    "        voisins = self.get_reachable_cells(start)\n",
    "        nouveaux_voisins = []\n",
    "        i = 1\n",
    "        while len(marques) < nbCells:\n",
    "            longueur = len(voisins)\n",
    "            for voisin in voisins:\n",
    "                marques.append(voisin)\n",
    "                nombres[voisin[0] * self.width + voisin[1]] += i\n",
    "                nouveaux_voisins.extend(self.get_reachable_cells(voisin))\n",
    "            for nouveau in nouveaux_voisins:\n",
    "                if nouveau not in marques:\n",
    "                    voisins.append(nouveau)\n",
    "            for voisin in range(longueur):\n",
    "                del voisins[0]\n",
    "            i+=1\n",
    "        return nombres\n",
    "    \n",
    "    def worst_path_len(self) -> int:\n",
    "        \"\"\"\n",
    "        \"\"\"\n",
    "        return max(self.propagation())\n",
    "    \n",
    "    def dead_end_number(self) -> int:\n",
    "        \"\"\"\n",
    "        Méthode d'instance qui renvoie le nombre maximal de culs-de-sac dans un labyrinthe\n",
    "        :return: Retourne le nombre total de culs-de-sac\n",
    "        \"\"\"\n",
    "        valeurs = self.propagation()\n",
    "        valeurVoisins = []\n",
    "        cellules = self.get_cells()\n",
    "        cds = 0\n",
    "        doublon = False\n",
    "        if len(self.get_reachable_cells(cellules[0])) < 2:\n",
    "            cds+=1\n",
    "        for i in range(len(cellules)):\n",
    "            voisins = self.get_reachable_cells(cellules[i])\n",
    "            \n",
    "            for voisin in voisins:\n",
    "                valeurVoisins.append(valeurs[voisin[0] * self.width + voisin[1]])\n",
    "            for valeur in valeurVoisins:\n",
    "                if valeurVoisins.count(valeur) > 1:\n",
    "                    doublon = True\n",
    "            if doublon:\n",
    "                cds+=1\n",
    "            valeurVoisins = []\n",
    "            doublon = False\n",
    "        return cds+1"
   ]
  },
  {
   "cell_type": "markdown",
   "id": "0f87f9a7",
   "metadata": {},
   "source": [
    "# 3 Implémentation"
   ]
  },
  {
   "cell_type": "code",
   "execution_count": 2,
   "id": "adeefa5f",
   "metadata": {
    "ExecuteTime": {
     "end_time": "2024-03-11T17:14:03.608625700Z",
     "start_time": "2024-03-11T17:14:03.577386200Z"
    }
   },
   "outputs": [
    {
     "name": "stdout",
     "output_type": "stream",
     "text": [
      "**Informations sur le labyrinthe**\n",
      "- Dimensions de la grille : 4 x 4\n",
      "- Voisinages :\n",
      "{(0, 0): set(), (0, 1): set(), (0, 2): set(), (0, 3): set(), (1, 0): set(), (1, 1): set(), (1, 2): set(), (1, 3): set(), (2, 0): set(), (2, 1): set(), (2, 2): set(), (2, 3): set(), (3, 0): set(), (3, 1): set(), (3, 2): set(), (3, 3): set()}\n",
      "- Structure cohérente\n",
      "\n"
     ]
    }
   ],
   "source": [
    "#Teste la cohérence du labyrinthe \n",
    "\n",
    "laby = Maze(4, 4)\n",
    "print(laby.info())"
   ]
  },
  {
   "cell_type": "code",
   "execution_count": 3,
   "id": "2c5efa47",
   "metadata": {
    "ExecuteTime": {
     "end_time": "2024-03-11T17:14:03.608625700Z",
     "start_time": "2024-03-11T17:14:03.577386200Z"
    }
   },
   "outputs": [
    {
     "name": "stdout",
     "output_type": "stream",
     "text": [
      "┏━━━┳━━━┳━━━┳━━━┓\n",
      "┃   ┃   ┃   ┃   ┃\n",
      "┣━━━╋━━━╋━━━╋━━━┫\n",
      "┃   ┃   ┃   ┃   ┃\n",
      "┣━━━╋━━━╋━━━╋━━━┫\n",
      "┃   ┃   ┃   ┃   ┃\n",
      "┣━━━╋━━━╋━━━╋━━━┫\n",
      "┃   ┃   ┃   ┃   ┃\n",
      "┗━━━┻━━━┻━━━┻━━━┛\n",
      "\n"
     ]
    }
   ],
   "source": [
    "print(laby)"
   ]
  },
  {
   "cell_type": "code",
   "execution_count": 4,
   "id": "277a61c5",
   "metadata": {
    "ExecuteTime": {
     "end_time": "2024-03-11T17:14:03.608625700Z",
     "start_time": "2024-03-11T17:14:03.577386200Z"
    }
   },
   "outputs": [
    {
     "name": "stdout",
     "output_type": "stream",
     "text": [
      "┏━━━┳━━━┳━━━┳━━━┓\n",
      "┃   ┃           ┃\n",
      "┣   ╋   ╋━━━╋   ┫\n",
      "┃   ┃       ┃   ┃\n",
      "┣   ╋━━━╋   ╋   ┫\n",
      "┃           ┃   ┃\n",
      "┣   ╋━━━╋━━━╋   ┫\n",
      "┃           ┃   ┃\n",
      "┗━━━┻━━━┻━━━┻━━━┛\n",
      "\n"
     ]
    }
   ],
   "source": [
    "#Definir manuellement les voisinages \n",
    "\n",
    "laby.neighbors = {\n",
    "    (0, 0): {(1, 0)},\n",
    "    (0, 1): {(0, 2), (1, 1)},\n",
    "    (0, 2): {(0, 1), (0, 3)},\n",
    "    (0, 3): {(0, 2), (1, 3)},\n",
    "    (1, 0): {(2, 0), (0, 0)},\n",
    "    (1, 1): {(0, 1), (1, 2)},\n",
    "    (1, 2): {(1, 1), (2, 2)},\n",
    "    (1, 3): {(2, 3), (0, 3)},\n",
    "    (2, 0): {(1, 0), (2, 1), (3, 0)},\n",
    "    (2, 1): {(2, 0), (2, 2)},\n",
    "    (2, 2): {(1, 2), (2, 1)},\n",
    "    (2, 3): {(3, 3), (1, 3)},\n",
    "    (3, 0): {(3, 1), (2, 0)},\n",
    "    (3, 1): {(3, 2), (3, 0)},\n",
    "    (3, 2): {(3, 1)},\n",
    "    (3, 3): {(2, 3)}\n",
    "}\n",
    "\n",
    "print(laby)"
   ]
  },
  {
   "cell_type": "code",
   "execution_count": 5,
   "id": "6ab1df84",
   "metadata": {
    "ExecuteTime": {
     "end_time": "2024-03-11T17:14:03.624245200Z",
     "start_time": "2024-03-11T17:14:03.577386200Z"
    }
   },
   "outputs": [
    {
     "name": "stdout",
     "output_type": "stream",
     "text": [
      "┏━━━┳━━━┳━━━┳━━━┓\n",
      "┃   ┃           ┃\n",
      "┣   ╋   ╋━━━╋   ┫\n",
      "┃   ┃       ┃   ┃\n",
      "┣   ╋━━━╋   ╋━━━┫\n",
      "┃           ┃   ┃\n",
      "┣   ╋━━━╋━━━╋   ┫\n",
      "┃           ┃   ┃\n",
      "┗━━━┻━━━┻━━━┻━━━┛\n",
      "\n"
     ]
    }
   ],
   "source": [
    "laby.neighbors[(1,3)].remove((2,3))\n",
    "laby.neighbors[(2,3)].remove((1,3))\n",
    "print(laby)"
   ]
  },
  {
   "cell_type": "code",
   "execution_count": 6,
   "id": "514566ff",
   "metadata": {
    "ExecuteTime": {
     "end_time": "2024-03-11T17:14:03.624245200Z",
     "start_time": "2024-03-11T17:14:03.577386200Z"
    }
   },
   "outputs": [
    {
     "name": "stdout",
     "output_type": "stream",
     "text": [
      "┏━━━┳━━━┳━━━┳━━━┓\n",
      "┃   ┃           ┃\n",
      "┣   ╋   ╋━━━╋   ┫\n",
      "┃   ┃       ┃   ┃\n",
      "┣   ╋━━━╋   ╋   ┫\n",
      "┃           ┃   ┃\n",
      "┣   ╋━━━╋━━━╋   ┫\n",
      "┃           ┃   ┃\n",
      "┗━━━┻━━━┻━━━┻━━━┛\n",
      "\n"
     ]
    }
   ],
   "source": [
    "laby.neighbors[(1, 3)].add((2, 3))\n",
    "laby.neighbors[(2, 3)].add((1, 3))\n",
    "print(laby)"
   ]
  },
  {
   "cell_type": "code",
   "execution_count": 7,
   "id": "89287694",
   "metadata": {
    "ExecuteTime": {
     "end_time": "2024-03-11T17:14:03.624245200Z",
     "start_time": "2024-03-11T17:14:03.577386200Z"
    }
   },
   "outputs": [
    {
     "name": "stdout",
     "output_type": "stream",
     "text": [
      "┏━━━┳━━━┳━━━┳━━━┓\n",
      "┃   ┃           ┃\n",
      "┣   ╋   ╋━━━╋   ┫\n",
      "┃   ┃       ┃   ┃\n",
      "┣   ╋━━━╋   ╋━━━┫\n",
      "┃           ┃   ┃\n",
      "┣   ╋━━━╋━━━╋   ┫\n",
      "┃           ┃   ┃\n",
      "┗━━━┻━━━┻━━━┻━━━┛\n",
      "\n",
      "**Informations sur le labyrinthe**\n",
      "- Dimensions de la grille : 4 x 4\n",
      "- Voisinages :\n",
      "{(0, 0): {(1, 0)}, (0, 1): {(1, 1), (0, 2)}, (0, 2): {(0, 1), (0, 3)}, (0, 3): {(0, 2), (1, 3)}, (1, 0): {(2, 0), (0, 0)}, (1, 1): {(0, 1), (1, 2)}, (1, 2): {(1, 1), (2, 2)}, (1, 3): {(0, 3)}, (2, 0): {(1, 0), (2, 1), (3, 0)}, (2, 1): {(2, 0), (2, 2)}, (2, 2): {(1, 2), (2, 1)}, (2, 3): {(3, 3), (1, 3)}, (3, 0): {(3, 1), (2, 0)}, (3, 1): {(3, 2), (3, 0)}, (3, 2): {(3, 1)}, (3, 3): {(2, 3)}}\n",
      "- Structure incohérente : (2, 3) X (1, 3)\n",
      "\n"
     ]
    }
   ],
   "source": [
    "laby.neighbors[(1, 3)].remove((2, 3))\n",
    "print(laby)\n",
    "print(laby.info())"
   ]
  },
  {
   "cell_type": "code",
   "execution_count": 8,
   "id": "ab6259ea",
   "metadata": {
    "ExecuteTime": {
     "end_time": "2024-03-11T17:14:03.624245200Z",
     "start_time": "2024-03-11T17:14:03.577386200Z"
    }
   },
   "outputs": [],
   "source": [
    "laby.neighbors[(2, 3)].remove((1,3))"
   ]
  },
  {
   "cell_type": "code",
   "execution_count": 9,
   "id": "e49f9c5e",
   "metadata": {
    "ExecuteTime": {
     "end_time": "2024-03-11T17:14:03.624245200Z",
     "start_time": "2024-03-11T17:14:03.577386200Z"
    }
   },
   "outputs": [
    {
     "name": "stdout",
     "output_type": "stream",
     "text": [
      "Il y a un mur entre (1, 3) et (2, 3) car (1, 3) n'est pas dans le voisinage de (2, 3) et (2, 3) n'est pas dans le voisinage de (1, 3)\n"
     ]
    }
   ],
   "source": [
    "#Test s'il y a un mur entre les deux cellules \n",
    "\n",
    "c1 = (1, 3)\n",
    "c2 = (2, 3)\n",
    "if c1 in laby.neighbors[c2] and c2 in laby.neighbors[c1]:\n",
    "    print(f\"Il n'y a pas de mur entre {c1} et {c2} car elles sont mutuellement voisines\")\n",
    "elif c1 not in laby.neighbors[c2] and c2 not in laby.neighbors[c1]:\n",
    "    print(f\"Il y a un mur entre {c1} et {c2} car {c1} n'est pas dans le voisinage de {c2} et {c2} n'est pas dans le voisinage de {c1}\")\n",
    "else:\n",
    "    print(f\"Il y a une incohérence de réciprocité des voisinages de {c1} et {c2}\")"
   ]
  },
  {
   "cell_type": "code",
   "execution_count": 10,
   "id": "2ee7ee19",
   "metadata": {
    "ExecuteTime": {
     "end_time": "2024-03-11T17:14:03.624245200Z",
     "start_time": "2024-03-11T17:14:03.577386200Z"
    }
   },
   "outputs": [
    {
     "name": "stdout",
     "output_type": "stream",
     "text": [
      "(1, 3) n'est pas accessible depuis (2, 3) et vice-versa\n"
     ]
    }
   ],
   "source": [
    "#Test si on peut accéder à une cellule depuis l'autre \n",
    "\n",
    "c1 = (1, 3)\n",
    "c2 = (2, 3)\n",
    "if c1 in laby.neighbors[c2] and c2 in laby.neighbors[c1]:\n",
    "    print(f\"{c1} est accessible depuis {c2} et vice-versa\")\n",
    "elif c1 not in laby.neighbors[c2] and c2 not in laby.neighbors[c1]:\n",
    "    print(f\"{c1} n'est pas accessible depuis {c2} et vice-versa\")\n",
    "else:\n",
    "    print(f\"Il y a une incohérence de réciprocité des voisinages de {c1} et {c2}\")"
   ]
  },
  {
   "cell_type": "code",
   "execution_count": 11,
   "id": "f86406f7",
   "metadata": {
    "ExecuteTime": {
     "end_time": "2024-03-11T17:14:03.624245200Z",
     "start_time": "2024-03-11T17:14:03.577386200Z"
    }
   },
   "outputs": [
    {
     "name": "stdout",
     "output_type": "stream",
     "text": [
      "Liste des cellules : \n",
      "[(0, 0), (0, 1), (0, 2), (0, 3), (1, 0), (1, 1), (1, 2), (1, 3), (2, 0), (2, 1), (2, 2), (2, 3), (3, 0), (3, 1), (3, 2), (3, 3)]\n"
     ]
    }
   ],
   "source": [
    "#Liste l'ensemble des cellules\n",
    "\n",
    "L = []\n",
    "for i in range(laby.height):\n",
    "    for j in range(laby.width):\n",
    "        L.append((i,j))\n",
    "print(f\"Liste des cellules : \\n{L}\")"
   ]
  },
  {
   "cell_type": "markdown",
   "id": "e72a6099",
   "metadata": {},
   "source": [
    "# 4 Manipulation de labyrinthes "
   ]
  },
  {
   "cell_type": "code",
   "execution_count": 12,
   "id": "9f6aec41",
   "metadata": {
    "ExecuteTime": {
     "end_time": "2024-03-11T17:14:03.624245200Z",
     "start_time": "2024-03-11T17:14:03.577386200Z"
    }
   },
   "outputs": [
    {
     "name": "stdout",
     "output_type": "stream",
     "text": [
      "┏━━━┳━━━┳━━━┳━━━┳━━━┓\n",
      "┃   ┃   ┃   ┃   ┃   ┃\n",
      "┣━━━╋━━━╋━━━╋━━━╋━━━┫\n",
      "┃   ┃   ┃   ┃   ┃   ┃\n",
      "┣━━━╋━━━╋━━━╋━━━╋━━━┫\n",
      "┃   ┃   ┃   ┃   ┃   ┃\n",
      "┣━━━╋━━━╋━━━╋━━━╋━━━┫\n",
      "┃   ┃   ┃   ┃   ┃   ┃\n",
      "┣━━━╋━━━╋━━━╋━━━╋━━━┫\n",
      "┃   ┃   ┃   ┃   ┃   ┃\n",
      "┗━━━┻━━━┻━━━┻━━━┻━━━┛\n",
      "\n"
     ]
    }
   ],
   "source": [
    "laby = Maze(5, 5)\n",
    "print(laby)"
   ]
  },
  {
   "cell_type": "code",
   "execution_count": 13,
   "id": "4894d453",
   "metadata": {
    "ExecuteTime": {
     "end_time": "2024-03-11T17:14:03.639864100Z",
     "start_time": "2024-03-11T17:14:03.577386200Z"
    }
   },
   "outputs": [
    {
     "name": "stdout",
     "output_type": "stream",
     "text": [
      "┏━━━┳━━━┳━━━┳━━━┳━━━┓\n",
      "┃                   ┃\n",
      "┣   ╋   ╋   ╋   ╋   ┫\n",
      "┃                   ┃\n",
      "┣   ╋   ╋   ╋   ╋   ┫\n",
      "┃                   ┃\n",
      "┣   ╋   ╋   ╋   ╋   ┫\n",
      "┃                   ┃\n",
      "┣   ╋   ╋   ╋   ╋   ┫\n",
      "┃                   ┃\n",
      "┗━━━┻━━━┻━━━┻━━━┻━━━┛\n",
      "\n"
     ]
    }
   ],
   "source": [
    "#Labyrinthe sans murs \n",
    "\n",
    "laby.empty()\n",
    "print(laby)"
   ]
  },
  {
   "cell_type": "code",
   "execution_count": 14,
   "id": "36944210",
   "metadata": {
    "ExecuteTime": {
     "end_time": "2024-03-11T17:14:03.639864100Z",
     "start_time": "2024-03-11T17:14:03.577386200Z"
    }
   },
   "outputs": [
    {
     "name": "stdout",
     "output_type": "stream",
     "text": [
      "┏━━━┳━━━┳━━━┳━━━┳━━━┓\n",
      "┃   ┃   ┃   ┃   ┃   ┃\n",
      "┣━━━╋━━━╋━━━╋━━━╋━━━┫\n",
      "┃   ┃   ┃   ┃   ┃   ┃\n",
      "┣━━━╋━━━╋━━━╋━━━╋━━━┫\n",
      "┃   ┃   ┃   ┃   ┃   ┃\n",
      "┣━━━╋━━━╋━━━╋━━━╋━━━┫\n",
      "┃   ┃   ┃   ┃   ┃   ┃\n",
      "┣━━━╋━━━╋━━━╋━━━╋━━━┫\n",
      "┃   ┃   ┃   ┃   ┃   ┃\n",
      "┗━━━┻━━━┻━━━┻━━━┻━━━┛\n",
      "\n"
     ]
    }
   ],
   "source": [
    "#Labyrinthe avec tous les murs possibles \n",
    "\n",
    "laby.fill()\n",
    "print(laby)"
   ]
  },
  {
   "cell_type": "code",
   "execution_count": 15,
   "id": "0944c046",
   "metadata": {
    "ExecuteTime": {
     "end_time": "2024-03-11T17:14:03.639864100Z",
     "start_time": "2024-03-11T17:14:03.593004200Z"
    }
   },
   "outputs": [
    {
     "name": "stdout",
     "output_type": "stream",
     "text": [
      "┏━━━┳━━━┳━━━┳━━━┳━━━┓\n",
      "┃       ┃   ┃   ┃   ┃\n",
      "┣━━━╋━━━╋━━━╋━━━╋━━━┫\n",
      "┃   ┃   ┃   ┃   ┃   ┃\n",
      "┣━━━╋━━━╋━━━╋━━━╋━━━┫\n",
      "┃   ┃   ┃   ┃   ┃   ┃\n",
      "┣━━━╋━━━╋━━━╋━━━╋━━━┫\n",
      "┃   ┃   ┃   ┃   ┃   ┃\n",
      "┣━━━╋━━━╋━━━╋━━━╋━━━┫\n",
      "┃   ┃   ┃   ┃   ┃   ┃\n",
      "┗━━━┻━━━┻━━━┻━━━┻━━━┛\n",
      "\n"
     ]
    }
   ],
   "source": [
    "#Supprime le mur entre les deux cellules \n",
    "\n",
    "laby.remove_wall((0, 0), (0, 1))\n",
    "print(laby)"
   ]
  },
  {
   "cell_type": "code",
   "execution_count": 16,
   "id": "aea6a1d1",
   "metadata": {
    "ExecuteTime": {
     "end_time": "2024-03-11T17:14:03.639864100Z",
     "start_time": "2024-03-11T17:14:03.593004200Z"
    }
   },
   "outputs": [
    {
     "name": "stdout",
     "output_type": "stream",
     "text": [
      "┏━━━┳━━━┳━━━┳━━━┳━━━┓\n",
      "┃   ┃               ┃\n",
      "┣   ╋━━━╋   ╋   ╋   ┫\n",
      "┃                   ┃\n",
      "┣   ╋   ╋   ╋   ╋   ┫\n",
      "┃                   ┃\n",
      "┣   ╋   ╋   ╋   ╋   ┫\n",
      "┃                   ┃\n",
      "┣   ╋   ╋   ╋   ╋   ┫\n",
      "┃                   ┃\n",
      "┗━━━┻━━━┻━━━┻━━━┻━━━┛\n",
      "\n"
     ]
    }
   ],
   "source": [
    "#Ajoute un mur entre les cellules \n",
    "\n",
    "laby.empty()\n",
    "laby.add_wall((0, 0), (0, 1))\n",
    "laby.add_wall((0, 1), (1, 1))\n",
    "print(laby)"
   ]
  },
  {
   "cell_type": "code",
   "execution_count": 17,
   "id": "c12669a8",
   "metadata": {
    "ExecuteTime": {
     "end_time": "2024-03-11T17:14:03.639864100Z",
     "start_time": "2024-03-11T17:14:03.593004200Z"
    }
   },
   "outputs": [
    {
     "name": "stdout",
     "output_type": "stream",
     "text": [
      "[((0, 0), (0, 1)), ((0, 1), (1, 1))]\n"
     ]
    }
   ],
   "source": [
    "#Liste de tous les murs du labyrinthe \n",
    "\n",
    "print(laby.get_walls())"
   ]
  },
  {
   "cell_type": "code",
   "execution_count": 18,
   "id": "b0ba36d6",
   "metadata": {
    "ExecuteTime": {
     "end_time": "2024-03-11T17:14:03.639864100Z",
     "start_time": "2024-03-11T17:14:03.593004200Z"
    }
   },
   "outputs": [
    {
     "data": {
      "text/plain": [
       "[(0, 0),\n",
       " (0, 1),\n",
       " (0, 2),\n",
       " (0, 3),\n",
       " (0, 4),\n",
       " (1, 0),\n",
       " (1, 1),\n",
       " (1, 2),\n",
       " (1, 3),\n",
       " (1, 4),\n",
       " (2, 0),\n",
       " (2, 1),\n",
       " (2, 2),\n",
       " (2, 3),\n",
       " (2, 4),\n",
       " (3, 0),\n",
       " (3, 1),\n",
       " (3, 2),\n",
       " (3, 3),\n",
       " (3, 4),\n",
       " (4, 0),\n",
       " (4, 1),\n",
       " (4, 2),\n",
       " (4, 3),\n",
       " (4, 4)]"
      ]
     },
     "execution_count": 18,
     "metadata": {},
     "output_type": "execute_result"
    }
   ],
   "source": [
    "#Liste de toutes les cellules du labyrinthe \n",
    "\n",
    "laby.get_cells()"
   ]
  },
  {
   "cell_type": "code",
   "execution_count": 19,
   "id": "ddb78d59",
   "metadata": {
    "ExecuteTime": {
     "end_time": "2024-03-11T17:14:03.639864100Z",
     "start_time": "2024-03-11T17:14:03.593004200Z"
    }
   },
   "outputs": [
    {
     "name": "stdout",
     "output_type": "stream",
     "text": [
      "[(0, 0), (0, 2), (1, 1)]\n"
     ]
    }
   ],
   "source": [
    "#Liste des cellules contigües \n",
    "\n",
    "print(laby.get_contiguous_cells((0,1)))"
   ]
  },
  {
   "cell_type": "code",
   "execution_count": 20,
   "id": "c1e84973",
   "metadata": {
    "ExecuteTime": {
     "end_time": "2024-03-11T17:14:03.639864100Z",
     "start_time": "2024-03-11T17:14:03.593004200Z"
    }
   },
   "outputs": [
    {
     "name": "stdout",
     "output_type": "stream",
     "text": [
      "[(0, 2)]\n"
     ]
    }
   ],
   "source": [
    "#Liste des cellules contigües accesibles \n",
    "\n",
    "print(laby.get_reachable_cells((0,1)))"
   ]
  },
  {
   "cell_type": "markdown",
   "id": "66ccabdb",
   "metadata": {},
   "source": [
    "# 5 Génération "
   ]
  },
  {
   "cell_type": "markdown",
   "id": "bb8ed01c",
   "metadata": {},
   "source": [
    "## 5.1 Arbre binaire "
   ]
  },
  {
   "cell_type": "code",
   "execution_count": 21,
   "id": "f4cdaf06",
   "metadata": {
    "ExecuteTime": {
     "end_time": "2024-03-11T17:14:03.639864100Z",
     "start_time": "2024-03-11T17:14:03.593004200Z"
    }
   },
   "outputs": [
    {
     "name": "stdout",
     "output_type": "stream",
     "text": [
      "┏━━━┳━━━┳━━━┳━━━┓\n",
      "┃   ┃   ┃   ┃   ┃\n",
      "┣   ╋   ╋   ╋   ┫\n",
      "┃   ┃           ┃\n",
      "┣   ╋━━━╋━━━╋   ┫\n",
      "┃       ┃   ┃   ┃\n",
      "┣━━━╋   ╋   ╋   ┫\n",
      "┃               ┃\n",
      "┗━━━┻━━━┻━━━┻━━━┛\n",
      "\n"
     ]
    }
   ],
   "source": [
    "laby = Maze.gen_btree(4, 4)\n",
    "print(laby)"
   ]
  },
  {
   "cell_type": "markdown",
   "id": "103832d0",
   "metadata": {},
   "source": [
    "## 5.2 Sidewinder"
   ]
  },
  {
   "cell_type": "code",
   "execution_count": 22,
   "id": "af5018fd",
   "metadata": {
    "ExecuteTime": {
     "end_time": "2024-03-11T17:14:03.639864100Z",
     "start_time": "2024-03-11T17:14:03.593004200Z"
    }
   },
   "outputs": [
    {
     "name": "stdout",
     "output_type": "stream",
     "text": [
      "┏━━━┳━━━┳━━━┳━━━┓\n",
      "┃               ┃\n",
      "┣━━━╋━━━╋   ╋━━━┫\n",
      "┃           ┃   ┃\n",
      "┣   ╋━━━╋━━━╋   ┫\n",
      "┃   ┃   ┃       ┃\n",
      "┣   ╋   ╋   ╋━━━┫\n",
      "┃               ┃\n",
      "┗━━━┻━━━┻━━━┻━━━┛\n",
      "\n"
     ]
    }
   ],
   "source": [
    "laby = Maze.gen_sidewinder(4, 4)\n",
    "print(laby)"
   ]
  },
  {
   "cell_type": "markdown",
   "id": "8235676f",
   "metadata": {},
   "source": [
    "## 5.3 Fusion de chemins"
   ]
  },
  {
   "cell_type": "code",
   "execution_count": 23,
   "id": "8c480c40",
   "metadata": {
    "ExecuteTime": {
     "end_time": "2024-03-11T17:14:03.639864100Z",
     "start_time": "2024-03-11T17:14:03.593004200Z"
    }
   },
   "outputs": [
    {
     "name": "stdout",
     "output_type": "stream",
     "text": [
      "┏━━━┳━━━┳━━━┳━━━┳━━━┳━━━┳━━━┳━━━┳━━━┳━━━┳━━━┳━━━┳━━━┳━━━┳━━━┓\n",
      "┃   ┃       ┃           ┃       ┃           ┃           ┃   ┃\n",
      "┣   ╋   ╋━━━╋   ╋   ╋━━━╋   ╋━━━╋   ╋━━━╋━━━╋━━━╋   ╋━━━╋   ┫\n",
      "┃   ┃           ┃   ┃               ┃       ┃               ┃\n",
      "┣   ╋   ╋   ╋   ╋   ╋━━━╋   ╋   ╋   ╋   ╋━━━╋   ╋━━━╋━━━╋━━━┫\n",
      "┃       ┃   ┃   ┃           ┃   ┃   ┃       ┃   ┃   ┃       ┃\n",
      "┣━━━╋   ╋━━━╋━━━╋━━━╋   ╋━━━╋   ╋   ╋   ╋━━━╋   ╋   ╋   ╋━━━┫\n",
      "┃   ┃   ┃                   ┃   ┃           ┃               ┃\n",
      "┣   ╋   ╋━━━╋   ╋━━━╋   ╋━━━╋━━━╋   ╋   ╋━━━╋━━━╋   ╋   ╋━━━┫\n",
      "┃       ┃           ┃   ┃           ┃               ┃   ┃   ┃\n",
      "┣   ╋   ╋   ╋━━━╋   ╋━━━╋━━━╋━━━╋   ╋━━━╋━━━╋   ╋   ╋━━━╋   ┫\n",
      "┃   ┃   ┃   ┃       ┃   ┃       ┃       ┃       ┃           ┃\n",
      "┣   ╋━━━╋   ╋   ╋━━━╋   ╋   ╋━━━╋━━━╋━━━╋━━━╋━━━╋━━━╋   ╋━━━┫\n",
      "┃   ┃       ┃               ┃   ┃                   ┃       ┃\n",
      "┣   ╋━━━╋━━━╋━━━╋━━━╋   ╋   ╋   ╋━━━╋   ╋━━━╋━━━╋━━━╋━━━╋━━━┫\n",
      "┃       ┃               ┃       ┃       ┃       ┃           ┃\n",
      "┣   ╋━━━╋   ╋   ╋   ╋━━━╋   ╋   ╋   ╋   ╋   ╋━━━╋   ╋━━━╋━━━┫\n",
      "┃   ┃       ┃   ┃       ┃   ┃   ┃   ┃           ┃           ┃\n",
      "┣   ╋━━━╋━━━╋━━━╋   ╋━━━╋━━━╋━━━╋━━━╋   ╋━━━╋━━━╋━━━╋   ╋━━━┫\n",
      "┃   ┃   ┃                   ┃       ┃   ┃       ┃           ┃\n",
      "┣   ╋   ╋   ╋━━━╋━━━╋━━━╋   ╋━━━╋   ╋   ╋   ╋━━━╋━━━╋   ╋   ┫\n",
      "┃   ┃               ┃       ┃   ┃       ┃               ┃   ┃\n",
      "┣━━━╋   ╋━━━╋━━━╋   ╋   ╋━━━╋   ╋   ╋━━━╋━━━╋   ╋━━━╋   ╋   ┫\n",
      "┃   ┃   ┃       ┃   ┃   ┃                       ┃       ┃   ┃\n",
      "┣   ╋   ╋   ╋━━━╋━━━╋   ╋━━━╋   ╋━━━╋━━━╋━━━╋━━━╋   ╋━━━╋━━━┫\n",
      "┃       ┃   ┃               ┃               ┃               ┃\n",
      "┣   ╋━━━╋   ╋━━━╋━━━╋   ╋━━━╋   ╋   ╋   ╋   ╋━━━╋   ╋   ╋━━━┫\n",
      "┃       ┃   ┃       ┃           ┃   ┃   ┃   ┃       ┃       ┃\n",
      "┣   ╋━━━╋   ╋   ╋━━━╋━━━╋   ╋━━━╋━━━╋━━━╋   ╋   ╋━━━╋   ╋━━━┫\n",
      "┃                       ┃   ┃               ┃   ┃           ┃\n",
      "┗━━━┻━━━┻━━━┻━━━┻━━━┻━━━┻━━━┻━━━┻━━━┻━━━┻━━━┻━━━┻━━━┻━━━┻━━━┛\n",
      "\n"
     ]
    }
   ],
   "source": [
    "laby = Maze.gen_fusion(15,15)\n",
    "print(laby)"
   ]
  },
  {
   "cell_type": "markdown",
   "id": "48f1cc1a",
   "metadata": {},
   "source": [
    "## 5.4 Exploration exhaustive"
   ]
  },
  {
   "cell_type": "code",
   "execution_count": 24,
   "id": "3f72d970",
   "metadata": {
    "ExecuteTime": {
     "end_time": "2024-03-11T17:14:03.639864100Z",
     "start_time": "2024-03-11T17:14:03.593004200Z"
    }
   },
   "outputs": [
    {
     "name": "stdout",
     "output_type": "stream",
     "text": [
      "┏━━━┳━━━┳━━━┳━━━┳━━━┳━━━┳━━━┳━━━┳━━━┳━━━┳━━━┳━━━┳━━━┳━━━┳━━━┓\n",
      "┃               ┃                                   ┃       ┃\n",
      "┣   ╋━━━╋━━━╋   ╋   ╋━━━╋━━━╋━━━╋   ╋━━━╋━━━╋━━━╋   ╋   ╋   ┫\n",
      "┃   ┃           ┃       ┃   ┃       ┃           ┃   ┃   ┃   ┃\n",
      "┣   ╋   ╋━━━╋━━━╋━━━╋   ╋   ╋   ╋━━━╋   ╋━━━╋   ╋   ╋━━━╋   ┫\n",
      "┃   ┃               ┃       ┃   ┃   ┃       ┃   ┃           ┃\n",
      "┣   ╋━━━╋━━━╋━━━╋   ╋━━━╋   ╋   ╋   ╋━━━╋   ╋   ╋━━━╋━━━╋   ┫\n",
      "┃   ┃           ┃           ┃   ┃           ┃       ┃       ┃\n",
      "┣   ╋━━━╋   ╋━━━╋━━━╋━━━╋━━━╋   ╋━━━╋━━━╋━━━╋   ╋━━━╋   ╋━━━┫\n",
      "┃       ┃               ┃   ┃               ┃       ┃   ┃   ┃\n",
      "┣━━━╋   ╋   ╋   ╋━━━╋   ╋   ╋━━━╋━━━╋━━━╋   ╋   ╋   ╋   ╋   ┫\n",
      "┃   ┃   ┃   ┃   ┃       ┃               ┃   ┃   ┃           ┃\n",
      "┣   ╋   ╋━━━╋   ╋   ╋━━━╋   ╋━━━╋   ╋   ╋   ╋━━━╋━━━╋━━━╋━━━┫\n",
      "┃   ┃   ┃       ┃       ┃       ┃   ┃   ┃                   ┃\n",
      "┣   ╋   ╋   ╋━━━╋━━━╋   ╋━━━╋━━━╋   ╋━━━╋━━━╋━━━╋━━━╋━━━╋   ┫\n",
      "┃   ┃       ┃       ┃       ┃       ┃                   ┃   ┃\n",
      "┣   ╋━━━╋━━━╋   ╋   ╋━━━╋   ╋   ╋   ╋   ╋━━━╋━━━╋━━━╋   ╋   ┫\n",
      "┃               ┃       ┃   ┃   ┃   ┃   ┃           ┃       ┃\n",
      "┣   ╋━━━╋━━━╋━━━╋   ╋   ╋   ╋   ╋━━━╋   ╋   ╋━━━╋   ╋━━━╋━━━┫\n",
      "┃           ┃       ┃   ┃       ┃       ┃       ┃           ┃\n",
      "┣━━━╋━━━╋   ╋   ╋   ╋━━━╋━━━╋   ╋   ╋━━━╋━━━╋━━━╋━━━╋   ╋   ┫\n",
      "┃           ┃   ┃   ┃           ┃           ┃       ┃   ┃   ┃\n",
      "┣   ╋━━━╋━━━╋   ╋━━━╋   ╋━━━╋━━━╋━━━╋━━━╋━━━╋   ╋   ╋━━━╋   ┫\n",
      "┃       ┃   ┃   ┃       ┃       ┃               ┃           ┃\n",
      "┣━━━╋   ╋   ╋   ╋   ╋━━━╋   ╋━━━╋   ╋━━━╋   ╋━━━╋━━━╋━━━╋   ┫\n",
      "┃   ┃       ┃   ┃       ┃       ┃   ┃   ┃           ┃       ┃\n",
      "┣   ╋━━━╋   ╋   ╋━━━╋   ╋━━━╋   ╋   ╋   ╋━━━╋━━━╋   ╋━━━╋━━━┫\n",
      "┃       ┃   ┃       ┃       ┃                   ┃           ┃\n",
      "┣   ╋   ╋   ╋   ╋━━━╋━━━╋   ╋━━━╋━━━╋━━━╋━━━╋━━━╋━━━╋━━━╋   ┫\n",
      "┃   ┃       ┃                                               ┃\n",
      "┗━━━┻━━━┻━━━┻━━━┻━━━┻━━━┻━━━┻━━━┻━━━┻━━━┻━━━┻━━━┻━━━┻━━━┻━━━┛\n",
      "\n"
     ]
    }
   ],
   "source": [
    "laby = Maze.gen_exploration(15, 15)\n",
    "print(laby)"
   ]
  },
  {
   "cell_type": "markdown",
   "id": "23560cc3",
   "metadata": {},
   "source": [
    "## 5.5 L’algorithme de Wilson"
   ]
  },
  {
   "cell_type": "code",
   "execution_count": 25,
   "id": "f45e702c",
   "metadata": {
    "ExecuteTime": {
     "end_time": "2024-03-11T17:14:03.639864100Z",
     "start_time": "2024-03-11T17:14:03.593004200Z"
    },
    "scrolled": false
   },
   "outputs": [
    {
     "name": "stdout",
     "output_type": "stream",
     "text": [
      "┏━━━┳━━━┳━━━┳━━━┳━━━┳━━━┳━━━┳━━━┳━━━┳━━━┳━━━┳━━━┓\n",
      "┃               ┃           ┃                   ┃\n",
      "┣   ╋━━━╋━━━╋   ╋━━━╋   ╋━━━╋━━━╋   ╋━━━╋   ╋   ┫\n",
      "┃   ┃               ┃   ┃               ┃   ┃   ┃\n",
      "┣━━━╋   ╋━━━╋   ╋━━━╋   ╋   ╋━━━╋━━━╋━━━╋   ╋━━━┫\n",
      "┃       ┃       ┃       ┃           ┃       ┃   ┃\n",
      "┣━━━╋━━━╋   ╋━━━╋━━━╋   ╋━━━╋   ╋━━━╋   ╋━━━╋   ┫\n",
      "┃           ┃           ┃           ┃   ┃       ┃\n",
      "┣━━━╋━━━╋   ╋━━━╋   ╋━━━╋━━━╋━━━╋━━━╋   ╋   ╋   ┫\n",
      "┃   ┃       ┃   ┃       ┃       ┃           ┃   ┃\n",
      "┣   ╋━━━╋   ╋   ╋   ╋   ╋━━━╋   ╋   ╋━━━╋━━━╋   ┫\n",
      "┃       ┃       ┃   ┃   ┃       ┃       ┃   ┃   ┃\n",
      "┣   ╋━━━╋━━━╋   ╋━━━╋   ╋   ╋━━━╋━━━╋   ╋   ╋   ┫\n",
      "┃                   ┃               ┃       ┃   ┃\n",
      "┣   ╋━━━╋   ╋━━━╋━━━╋━━━╋━━━╋━━━╋   ╋━━━╋━━━╋   ┫\n",
      "┃       ┃   ┃       ┃               ┃           ┃\n",
      "┣   ╋━━━╋━━━╋   ╋   ╋━━━╋   ╋━━━╋   ╋━━━╋   ╋━━━┫\n",
      "┃           ┃   ┃           ┃   ┃       ┃       ┃\n",
      "┣   ╋━━━╋   ╋   ╋   ╋━━━╋━━━╋   ╋   ╋━━━╋━━━╋   ┫\n",
      "┃       ┃   ┃   ┃           ┃               ┃   ┃\n",
      "┣━━━╋━━━╋   ╋   ╋━━━╋━━━╋━━━╋━━━╋   ╋   ╋━━━╋   ┫\n",
      "┃                   ┃           ┃   ┃           ┃\n",
      "┣   ╋━━━╋━━━╋━━━╋━━━╋━━━╋   ╋━━━╋   ╋━━━╋━━━╋   ┫\n",
      "┃                       ┃               ┃       ┃\n",
      "┗━━━┻━━━┻━━━┻━━━┻━━━┻━━━┻━━━┻━━━┻━━━┻━━━┻━━━┻━━━┛\n",
      "\n"
     ]
    }
   ],
   "source": [
    "laby = Maze.gen_wilson(12, 12)\n",
    "print(laby)"
   ]
  },
  {
   "cell_type": "markdown",
   "id": "f5f3a0ed",
   "metadata": {},
   "source": [
    "# 6 Résolution"
   ]
  },
  {
   "cell_type": "markdown",
   "id": "698f0b76",
   "metadata": {},
   "source": [
    "## 6.1 Résolution par parcours"
   ]
  },
  {
   "cell_type": "code",
   "execution_count": 26,
   "id": "e1bbc28e",
   "metadata": {
    "ExecuteTime": {
     "end_time": "2024-03-11T17:14:03.655485100Z",
     "start_time": "2024-03-11T17:14:03.593004200Z"
    }
   },
   "outputs": [
    {
     "name": "stdout",
     "output_type": "stream",
     "text": [
      "┏━━━┳━━━┳━━━┳━━━┳━━━┳━━━┳━━━┳━━━┳━━━┳━━━┳━━━┳━━━┳━━━┳━━━┳━━━┓\n",
      "┃ D ┃   ┃   ┃           ┃   ┃       ┃   ┃       ┃       ┃   ┃\n",
      "┣   ╋   ╋   ╋   ╋   ╋━━━╋   ╋━━━╋   ╋   ╋━━━╋   ╋   ╋━━━╋   ┫\n",
      "┃ * ┃   ┃       ┃   ┃           ┃               ┃   ┃   ┃   ┃\n",
      "┣   ╋   ╋━━━╋━━━╋   ╋   ╋   ╋━━━╋   ╋━━━╋━━━╋━━━╋   ╋   ╋   ┫\n",
      "┃ *   * ┃   ┃   ┃       ┃       ┃       ┃   ┃       ┃   ┃   ┃\n",
      "┣   ╋   ╋   ╋   ╋━━━╋━━━╋   ╋   ╋   ╋━━━╋   ╋━━━╋   ╋   ╋   ┫\n",
      "┃   ┃ *   *   *   *   *     ┃               ┃               ┃\n",
      "┣━━━╋   ╋   ╋   ╋━━━╋   ╋━━━╋   ╋━━━╋━━━╋━━━╋━━━╋   ╋━━━╋━━━┫\n",
      "┃       ┃   ┃   ┃     *     ┃           ┃       ┃           ┃\n",
      "┣   ╋━━━╋━━━╋━━━╋━━━╋   ╋━━━╋   ╋━━━╋━━━╋━━━╋   ╋━━━╋   ╋   ┫\n",
      "┃               ┃     * ┃       ┃   ┃           ┃       ┃   ┃\n",
      "┣━━━╋━━━╋   ╋━━━╋   ╋   ╋   ╋━━━╋   ╋   ╋━━━╋━━━╋━━━╋   ╋   ┫\n",
      "┃           ┃       ┃ * ┃   ┃ *   *   *   *             ┃   ┃\n",
      "┣   ╋━━━╋━━━╋━━━╋━━━╋   ╋   ╋   ╋━━━╋   ╋   ╋━━━╋━━━╋   ╋━━━┫\n",
      "┃       ┃       ┃ *   * ┃   ┃ *     ┃   ┃ *     ┃   ┃       ┃\n",
      "┣   ╋   ╋━━━╋   ╋   ╋━━━╋━━━╋   ╋━━━╋   ╋   ╋━━━╋   ╋━━━╋━━━┫\n",
      "┃   ┃   ┃         *   *   *   * ┃       ┃ *                 ┃\n",
      "┣   ╋   ╋━━━╋━━━╋━━━╋━━━╋━━━╋   ╋━━━╋━━━╋   ╋━━━╋━━━╋━━━╋   ┫\n",
      "┃   ┃                   ┃   ┃       ┃   ┃ *   *   * ┃       ┃\n",
      "┣━━━╋━━━╋   ╋   ╋━━━╋━━━╋   ╋   ╋   ╋   ╋   ╋━━━╋   ╋━━━╋━━━┫\n",
      "┃       ┃   ┃               ┃   ┃   ┃       ┃     * ┃       ┃\n",
      "┣   ╋━━━╋   ╋   ╋━━━╋━━━╋   ╋━━━╋━━━╋   ╋━━━╋━━━╋   ╋   ╋━━━┫\n",
      "┃           ┃   ┃                   ┃   ┃         *   *   * ┃\n",
      "┣━━━╋   ╋━━━╋━━━╋━━━╋━━━╋━━━╋━━━╋   ╋━━━╋━━━╋━━━╋━━━╋━━━╋   ┫\n",
      "┃                   ┃   ┃       ┃   ┃               ┃     * ┃\n",
      "┣   ╋━━━╋━━━╋━━━╋━━━╋   ╋   ╋   ╋   ╋   ╋   ╋━━━╋━━━╋━━━╋   ┫\n",
      "┃           ┃   ┃       ┃   ┃       ┃   ┃   ┃   ┃         * ┃\n",
      "┣   ╋━━━╋━━━╋   ╋   ╋━━━╋   ╋━━━╋   ╋━━━╋   ╋   ╋━━━╋   ╋   ┫\n",
      "┃               ┃           ┃       ┃                   ┃ A ┃\n",
      "┗━━━┻━━━┻━━━┻━━━┻━━━┻━━━┻━━━┻━━━┻━━━┻━━━┻━━━┻━━━┻━━━┻━━━┻━━━┛\n",
      "\n"
     ]
    }
   ],
   "source": [
    "#Parcours en profondeur du labyrinthe \n",
    "\n",
    "laby = Maze.gen_fusion(15, 15)\n",
    "solution = laby.solve_dfs((0, 0), (14, 14))\n",
    "str_solution = {c:'*' for c in solution}\n",
    "str_solution[( 0,  0)] = 'D'\n",
    "str_solution[(14, 14)] = 'A'\n",
    "print(laby.overlay(str_solution))"
   ]
  },
  {
   "cell_type": "code",
   "execution_count": 27,
   "id": "cdd47ea1",
   "metadata": {
    "ExecuteTime": {
     "end_time": "2024-03-11T17:14:03.671105200Z",
     "start_time": "2024-03-11T17:14:03.593004200Z"
    }
   },
   "outputs": [
    {
     "name": "stdout",
     "output_type": "stream",
     "text": [
      "┏━━━┳━━━┳━━━┳━━━┳━━━┳━━━┳━━━┳━━━┳━━━┳━━━┳━━━┳━━━┳━━━┳━━━┳━━━┓\n",
      "┃ D     ┃   ┃       ┃           ┃               ┃       ┃   ┃\n",
      "┣   ╋   ╋   ╋   ╋   ╋   ╋   ╋   ╋   ╋━━━╋━━━╋   ╋   ╋   ╋   ┫\n",
      "┃ * ┃   ┃       ┃       ┃   ┃   ┃   ┃           ┃   ┃       ┃\n",
      "┣   ╋   ╋━━━╋━━━╋━━━╋━━━╋   ╋━━━╋   ╋   ╋━━━╋   ╋   ╋━━━╋   ┫\n",
      "┃ * ┃                       ┃       ┃   ┃   ┃   ┃   ┃   ┃   ┃\n",
      "┣   ╋━━━╋━━━╋━━━╋━━━╋━━━╋   ╋   ╋━━━╋━━━╋   ╋   ╋   ╋   ╋   ┫\n",
      "┃ *   *   * ┃               ┃   ┃           ┃       ┃   ┃   ┃\n",
      "┣   ╋━━━╋   ╋   ╋━━━╋━━━╋   ╋   ╋   ╋━━━╋━━━╋━━━╋━━━╋   ╋   ┫\n",
      "┃   ┃ *   * ┃   ┃ *   * ┃   ┃       ┃                   ┃   ┃\n",
      "┣━━━╋   ╋━━━╋━━━╋   ╋   ╋━━━╋━━━╋━━━╋   ╋━━━╋━━━╋   ╋━━━╋   ┫\n",
      "┃ *   * ┃ *   *   * ┃ *   *         ┃   ┃       ┃   ┃       ┃\n",
      "┣   ╋━━━╋   ╋━━━╋━━━╋━━━╋   ╋━━━╋━━━╋   ╋   ╋━━━╋   ╋   ╋━━━┫\n",
      "┃ * ┃ *   *     ┃ *   *   * ┃           ┃       ┃       ┃   ┃\n",
      "┣   ╋   ╋━━━╋━━━╋   ╋━━━╋━━━╋   ╋━━━╋━━━╋   ╋   ╋━━━╋━━━╋   ┫\n",
      "┃ *   * ┃ *   *   * ┃           ┃       ┃   ┃           ┃   ┃\n",
      "┣━━━╋━━━╋   ╋━━━╋   ╋   ╋━━━╋━━━╋━━━╋   ╋   ╋━━━╋   ╋   ╋   ┫\n",
      "┃ *   *   * ┃   ┃   ┃   ┃     *   * ┃   ┃       ┃   ┃       ┃\n",
      "┣   ╋━━━╋━━━╋   ╋   ╋   ╋   ╋   ╋   ╋   ╋━━━╋   ╋   ╋━━━╋   ┫\n",
      "┃ *         ┃       ┃   ┃   ┃ * ┃ * ┃           ┃   ┃       ┃\n",
      "┣   ╋━━━╋   ╋━━━╋━━━╋   ╋━━━╋   ╋   ╋━━━╋━━━╋━━━╋   ╋   ╋━━━┫\n",
      "┃ * ┃   ┃               ┃ *   * ┃ *   *   *   * ┃   ┃   ┃   ┃\n",
      "┣   ╋   ╋━━━╋━━━╋━━━╋━━━╋   ╋━━━╋━━━╋━━━╋━━━╋   ╋   ╋   ╋   ┫\n",
      "┃ * ┃     *   * ┃ *   *   * ┃ *   * ┃       ┃ * ┃   ┃       ┃\n",
      "┣   ╋━━━╋   ╋   ╋   ╋━━━╋━━━╋   ╋   ╋   ╋━━━╋   ╋   ╋━━━╋━━━┫\n",
      "┃ *   *   * ┃ * ┃ *   *   *   * ┃ * ┃       ┃ * ┃           ┃\n",
      "┣━━━╋━━━╋━━━╋   ╋━━━╋   ╋━━━╋━━━╋   ╋━━━╋   ╋   ╋━━━╋━━━╋   ┫\n",
      "┃   ┃       ┃ *   * ┃           ┃ *   * ┃   ┃ *   *   * ┃   ┃\n",
      "┣   ╋   ╋   ╋━━━╋   ╋━━━╋━━━╋━━━╋━━━╋   ╋   ╋━━━╋━━━╋   ╋   ┫\n",
      "┃       ┃         *   *   *   *   *   * ┃             *   A ┃\n",
      "┗━━━┻━━━┻━━━┻━━━┻━━━┻━━━┻━━━┻━━━┻━━━┻━━━┻━━━┻━━━┻━━━┻━━━┻━━━┛\n",
      "\n"
     ]
    }
   ],
   "source": [
    "#Parcours en largeur du labyrinthe \n",
    "\n",
    "laby = Maze.gen_exploration(15, 15)\n",
    "solution = laby.solve_bfs((0, 0), (14, 14))\n",
    "str_solution = {c:'*' for c in solution}\n",
    "str_solution[( 0,  0)] = 'D'\n",
    "str_solution[(14, 14)] = 'A'\n",
    "print(laby.overlay(str_solution))"
   ]
  },
  {
   "cell_type": "markdown",
   "id": "f007a4c4",
   "metadata": {},
   "source": [
    "## 6.2 Résolution en aveugle : « la main droite »"
   ]
  },
  {
   "cell_type": "code",
   "execution_count": 28,
   "id": "c14cc334",
   "metadata": {
    "ExecuteTime": {
     "end_time": "2024-03-11T17:14:03.671105200Z",
     "start_time": "2024-03-11T17:14:03.593004200Z"
    }
   },
   "outputs": [
    {
     "name": "stdout",
     "output_type": "stream",
     "text": [
      "┏━━━┳━━━┳━━━┳━━━┳━━━┓\n",
      "┃ D   * ┃           ┃\n",
      "┣   ╋   ╋━━━╋━━━╋   ┫\n",
      "┃ * ┃ *   *   * ┃   ┃\n",
      "┣   ╋━━━╋━━━╋   ╋   ┫\n",
      "┃ *   * ┃ *   * ┃   ┃\n",
      "┣━━━╋   ╋   ╋━━━╋   ┫\n",
      "┃ * ┃ * ┃ *   *   * ┃\n",
      "┣   ╋   ╋━━━╋━━━╋   ┫\n",
      "┃ *   * ┃         A ┃\n",
      "┗━━━┻━━━┻━━━┻━━━┻━━━┛\n",
      "\n"
     ]
    }
   ],
   "source": [
    "#Algorithme de résolution de la \"main droite\"\n",
    "\n",
    "laby = Maze.gen_exploration(5, 5)\n",
    "solution = laby.solve_rhr((0, 0), (4, 4))\n",
    "str_solution = {c:'*' for c in solution}\n",
    "str_solution[( 0,  0)] = 'D'\n",
    "str_solution[(4, 4)] = 'A'\n",
    "print(laby.overlay(str_solution))"
   ]
  },
  {
   "cell_type": "markdown",
   "id": "f7ab5e36",
   "metadata": {},
   "source": [
    "# 7 Évaluation"
   ]
  },
  {
   "cell_type": "code",
   "execution_count": 29,
   "id": "7aa24ace428160af",
   "metadata": {
    "ExecuteTime": {
     "end_time": "2024-03-11T17:14:03.686726900Z",
     "start_time": "2024-03-11T17:14:03.593004200Z"
    }
   },
   "outputs": [
    {
     "name": "stdout",
     "output_type": "stream",
     "text": [
      "┏━━━┳━━━┳━━━┳━━━┳━━━┓\n",
      "┃       ┃           ┃\n",
      "┣   ╋   ╋━━━╋━━━╋   ┫\n",
      "┃   ┃           ┃   ┃\n",
      "┣   ╋━━━╋━━━╋   ╋   ┫\n",
      "┃       ┃       ┃   ┃\n",
      "┣━━━╋   ╋   ╋━━━╋   ┫\n",
      "┃   ┃   ┃           ┃\n",
      "┣   ╋   ╋━━━╋━━━╋   ┫\n",
      "┃       ┃           ┃\n",
      "┗━━━┻━━━┻━━━┻━━━┻━━━┛\n",
      "\n",
      "11\n"
     ]
    }
   ],
   "source": [
    "#Distance géodesique entre les deux cellules\n",
    "\n",
    "print(laby)\n",
    "print(laby.distance_geo((0, 0), (4, 4)))"
   ]
  },
  {
   "cell_type": "code",
   "execution_count": 30,
   "id": "d5397969b9caa9de",
   "metadata": {
    "ExecuteTime": {
     "end_time": "2024-03-11T17:14:03.686726900Z",
     "start_time": "2024-03-11T17:14:03.593004200Z"
    }
   },
   "outputs": [
    {
     "name": "stdout",
     "output_type": "stream",
     "text": [
      "┏━━━┳━━━┳━━━┳━━━┳━━━┓\n",
      "┃       ┃           ┃\n",
      "┣   ╋   ╋━━━╋━━━╋   ┫\n",
      "┃   ┃           ┃   ┃\n",
      "┣   ╋━━━╋━━━╋   ╋   ┫\n",
      "┃       ┃       ┃   ┃\n",
      "┣━━━╋   ╋   ╋━━━╋   ┫\n",
      "┃   ┃   ┃           ┃\n",
      "┣   ╋   ╋━━━╋━━━╋   ┫\n",
      "┃       ┃           ┃\n",
      "┗━━━┻━━━┻━━━┻━━━┻━━━┛\n",
      "\n",
      "8\n"
     ]
    }
   ],
   "source": [
    "#Distance de Manhattan entre les deux cellules\n",
    "\n",
    "print(laby)\n",
    "print(laby.distance_man((0, 0), (4, 4)))"
   ]
  },
  {
   "cell_type": "code",
   "execution_count": 31,
   "id": "ff516e6dda2490e6",
   "metadata": {
    "ExecuteTime": {
     "end_time": "2024-03-11T17:14:03.686726900Z",
     "start_time": "2024-03-11T17:14:03.593004200Z"
    }
   },
   "outputs": [
    {
     "name": "stdout",
     "output_type": "stream",
     "text": [
      "┏━━━┳━━━┳━━━┳━━━┳━━━┓\n",
      "┃       ┃           ┃\n",
      "┣   ╋   ╋━━━╋━━━╋   ┫\n",
      "┃   ┃           ┃   ┃\n",
      "┣   ╋━━━╋━━━╋   ╋   ┫\n",
      "┃       ┃       ┃   ┃\n",
      "┣━━━╋   ╋   ╋━━━╋   ┫\n",
      "┃   ┃   ┃           ┃\n",
      "┣   ╋   ╋━━━╋━━━╋   ┫\n",
      "┃       ┃           ┃\n",
      "┗━━━┻━━━┻━━━┻━━━┻━━━┛\n",
      "\n",
      "14\n"
     ]
    }
   ],
   "source": [
    "#Plus long chemin menant à une impasse \n",
    "\n",
    "print(laby)\n",
    "print(laby.worst_path_len())"
   ]
  },
  {
   "cell_type": "code",
   "execution_count": 32,
   "id": "a19515b469e7695c",
   "metadata": {
    "ExecuteTime": {
     "end_time": "2024-03-11T17:14:03.686726900Z",
     "start_time": "2024-03-11T17:14:03.593004200Z"
    }
   },
   "outputs": [
    {
     "name": "stdout",
     "output_type": "stream",
     "text": [
      "┏━━━┳━━━┳━━━┳━━━┳━━━┓\n",
      "┃       ┃           ┃\n",
      "┣   ╋   ╋━━━╋━━━╋   ┫\n",
      "┃   ┃           ┃   ┃\n",
      "┣   ╋━━━╋━━━╋   ╋   ┫\n",
      "┃       ┃       ┃   ┃\n",
      "┣━━━╋   ╋   ╋━━━╋   ┫\n",
      "┃   ┃   ┃           ┃\n",
      "┣   ╋   ╋━━━╋━━━╋   ┫\n",
      "┃       ┃           ┃\n",
      "┗━━━┻━━━┻━━━┻━━━┻━━━┛\n",
      "\n",
      "3\n"
     ]
    }
   ],
   "source": [
    "#Nombre de culs-de-sacs présents dans le labyrinthe\n",
    "\n",
    "print(laby)\n",
    "print(laby.dead_end_number())"
   ]
  },
  {
   "cell_type": "code",
   "execution_count": null,
   "id": "fe40e4fc",
   "metadata": {},
   "outputs": [],
   "source": []
  },
  {
   "cell_type": "code",
   "execution_count": null,
   "id": "416e9c48",
   "metadata": {},
   "outputs": [],
   "source": []
  }
 ],
 "metadata": {
  "kernelspec": {
   "display_name": "Python 3 (ipykernel)",
   "language": "python",
   "name": "python3"
  },
  "language_info": {
   "codemirror_mode": {
    "name": "ipython",
    "version": 3
   },
   "file_extension": ".py",
   "mimetype": "text/x-python",
   "name": "python",
   "nbconvert_exporter": "python",
   "pygments_lexer": "ipython3",
   "version": "3.8.10"
  }
 },
 "nbformat": 4,
 "nbformat_minor": 5
}
