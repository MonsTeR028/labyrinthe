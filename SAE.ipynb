{
 "cells": [
  {
   "cell_type": "code",
   "execution_count": 62,
   "id": "aaaee56bac61310e",
   "metadata": {
    "ExecuteTime": {
     "end_time": "2024-03-07T10:41:26.617964Z",
     "start_time": "2024-03-07T10:41:26.597577Z"
    },
    "collapsed": false
   },
   "outputs": [],
   "source": [
    "import random\n",
    "\n",
    "class Maze:\n",
    "    \"\"\"\n",
    "    Classe Labyrinthe\n",
    "    Représentation sous forme de graphe non-orienté\n",
    "    dont chaque sommet est une cellule (un tuple (l,c))\n",
    "    et dont la structure est représentée par un dictionnaire\n",
    "      - clés : sommets\n",
    "      - valeurs : ensemble des sommets voisins accessibles\n",
    "    \"\"\"\n",
    "    def __init__(self, height, width):\n",
    "        \"\"\"\n",
    "        Constructeur d'un labyrinthe de height cellules de haut \n",
    "        et de width cellules de large \n",
    "        Les voisinages sont initialisés à des ensembles vides\n",
    "        Remarque : dans le labyrinthe créé, chaque cellule est complètement emmurée\n",
    "        \"\"\"\n",
    "        self.height    = height\n",
    "        self.width     = width\n",
    "        self.neighbors = {(i,j): set() for i in range(height) for j in range (width)}\n",
    "\n",
    "    def info(self):\n",
    "        \"\"\"\n",
    "        **NE PAS MODIFIER CETTE MÉTHODE**\n",
    "        Affichage des attributs d'un objet 'Maze' (fonction utile pour deboguer)\n",
    "        Retour:\n",
    "            chaîne (string): description textuelle des attributs de l'objet\n",
    "        \"\"\"\n",
    "        txt = \"**Informations sur le labyrinthe**\\n\"\n",
    "        txt += f\"- Dimensions de la grille : {self.height} x {self.width}\\n\"\n",
    "        txt += \"- Voisinages :\\n\"\n",
    "        txt += str(self.neighbors)+\"\\n\"\n",
    "        valid = True\n",
    "        for c1 in {(i, j) for i in range(self.height) for j in range(self.width)}:\n",
    "            for c2 in self.neighbors[c1]:\n",
    "                if c1 not in self.neighbors[c2]:\n",
    "                    valid = False\n",
    "                    break\n",
    "            else:\n",
    "                continue\n",
    "            break\n",
    "        txt += \"- Structure cohérente\\n\" if valid else f\"- Structure incohérente : {c1} X {c2}\\n\"\n",
    "        return txt\n",
    "\n",
    "    def __str__(self):\n",
    "        \"\"\"\n",
    "        **NE PAS MODIFIER CETTE MÉTHODE**\n",
    "        Représentation textuelle d'un objet Maze (en utilisant des caractères ascii)\n",
    "        Retour:\n",
    "             chaîne (str) : chaîne de caractères représentant le labyrinthe\n",
    "        \"\"\"\n",
    "        txt = \"\"\n",
    "        # Première ligne\n",
    "        txt += \"┏\"\n",
    "        for j in range(self.width-1):\n",
    "            txt += \"━━━┳\"\n",
    "        txt += \"━━━┓\\n\"\n",
    "        txt += \"┃\"\n",
    "        for j in range(self.width-1):\n",
    "            txt += \"   ┃\" if (0,j+1) not in self.neighbors[(0,j)] else \"    \"\n",
    "        txt += \"   ┃\\n\"\n",
    "        # Lignes normales\n",
    "        for i in range(self.height-1):\n",
    "            txt += \"┣\"\n",
    "            for j in range(self.width-1):\n",
    "                txt += \"━━━╋\" if (i+1,j) not in self.neighbors[(i,j)] else \"   ╋\"\n",
    "            txt += \"━━━┫\\n\" if (i+1,self.width-1) not in self.neighbors[(i,self.width-1)] else \"   ┫\\n\"\n",
    "            txt += \"┃\"\n",
    "            for j in range(self.width):\n",
    "                txt += \"   ┃\" if (i+1,j+1) not in self.neighbors[(i+1,j)] else \"    \"\n",
    "            txt += \"\\n\"\n",
    "        # Bas du tableau\n",
    "        txt += \"┗\"\n",
    "        for i in range(self.width-1):\n",
    "            txt += \"━━━┻\"\n",
    "        txt += \"━━━┛\\n\"\n",
    "\n",
    "        return txt\n",
    "    \n",
    "    def add_wall(self, c1, c2):\n",
    "        # Facultatif : on teste si les sommets sont bien dans le labyrinthe\n",
    "        assert 0 <= c1[0] < self.height and \\\n",
    "            0 <= c1[1] < self.width and \\\n",
    "            0 <= c2[0] < self.height and \\\n",
    "            0 <= c2[1] < self.width, \\\n",
    "            f\"Erreur lors de l'ajout d'un mur entre {c1} et {c2} : les coordonnées de sont pas compatibles avec les dimensions du labyrinthe\"\n",
    "        # Ajout du mur\n",
    "        if c2 in self.neighbors[c1]:      # Si c2 est dans les voisines de c1\n",
    "            self.neighbors[c1].remove(c2) # on le retire\n",
    "        if c1 in self.neighbors[c2]:      # Si c3 est dans les voisines de c2\n",
    "            self.neighbors[c2].remove(c1) # on le retire\n",
    "            \n",
    "    def remove_wall(self, c1, c2) :     \n",
    "        self.neighbors[c1].add(c2)       \n",
    "        self.neighbors[c2].add(c1) \n",
    "        \n",
    "    def get_cells(self):\n",
    "        cellules = []\n",
    "        for i in range(0,self.height):\n",
    "            for j in range(0,self.width):\n",
    "                cellules.append((i,j))\n",
    "        return cellules\n",
    "         \n",
    "    def get_walls(self):\n",
    "        walls = []\n",
    "        for c1 in self.get_cells():\n",
    "            c2 = (c1[0],c1[1]+1)\n",
    "            c3 = (c1[0]+1,c1[1])\n",
    "            if c1[1]+1 < self.width and c2 not in self.neighbors[c1]:\n",
    "                walls.append((c1,c2))\n",
    "            if c1[0]+1 < self.height and c3 not in self.neighbors[c1]:\n",
    "                walls.append((c1,c3))\n",
    "        return walls\n",
    "    \n",
    "    def fill(self):\n",
    "        for c1 in self.get_cells():\n",
    "            c2 = (c1[0],c1[1]+1)\n",
    "            c3 = (c1[0]+1,c1[1])\n",
    "            if c2 in self.neighbors[c1]:\n",
    "                self.add_wall(c1,c2)\n",
    "            if c3 in self.neighbors[c1]:\n",
    "                self.add_wall(c1,c3)\n",
    "    \n",
    "    def empty(self):\n",
    "        for c1 in self.get_cells():\n",
    "            c2 = (c1[0], c1[1] + 1)\n",
    "            c3 = (c1[0] + 1, c1[1])\n",
    "            if c1[1]+1 < self.width:\n",
    "                self.remove_wall(c1, c2)\n",
    "            if c1[0]+1 < self.height:\n",
    "                self.remove_wall(c1, c3)\n",
    "                \n",
    "    def get_contiguous_cells(self, c):\n",
    "        listeContigue = []\n",
    "        if c[1] - 1 >= 0:\n",
    "            listeContigue.append((c[0], c[1] - 1))\n",
    "        if c[1] + 1 < self.width:\n",
    "            listeContigue.append((c[0], c[1] + 1))\n",
    "        if c[0] - 1 >= 0:\n",
    "            listeContigue.append((c[0] - 1, c[1]))\n",
    "        if c[0] + 1 < self.height:\n",
    "            listeContigue.append((c[0] + 1, c[1]))\n",
    "        return listeContigue \n",
    "    \n",
    "    def get_reachable_cells(self, c):\n",
    "        listeAccessible = []\n",
    "        for c1 in self.get_contiguous_cells(c):\n",
    "            if c1 in self.neighbors[c]:\n",
    "                listeAccessible.append(c1)\n",
    "        return listeAccessible\n",
    "\n",
    "    @classmethod\n",
    "    def gen_btree(cls, h: int, w: int):\n",
    "        cls = Maze(h, w)\n",
    "        cls.fill()\n",
    "        cEst = None\n",
    "        cSud = None\n",
    "        for cellule in cls.get_cells():\n",
    "            if cellule[1]+1 < w:\n",
    "                cEst = (cellule[0], cellule[1]+1)\n",
    "            if cellule[0]+1 < h:\n",
    "                cSud = (cellule[0]+1, cellule[1])\n",
    "                \n",
    "            if cEst == (cellule[0], cellule[1]+1) and \\\n",
    "                    cSud == (cellule[0]+1, cellule[1]):\n",
    "                if random.randint(1,2) == 1:\n",
    "                    cls.remove_wall(cellule, cEst)\n",
    "                else:\n",
    "                    cls.remove_wall(cellule, cSud)\n",
    "                    \n",
    "            if (cEst == (cellule[0], cellule[1]+1)) ^ \\\n",
    "                    (cSud == (cellule[0]+1, cellule[1])):\n",
    "                if cEst == (cellule[0], cellule[1]+1):\n",
    "                    cls.remove_wall(cellule, cEst)\n",
    "                if cSud == (cellule[0]+1, cellule[1]):\n",
    "                    cls.remove_wall(cellule, cSud)\n",
    "        return cls\n",
    "    \n",
    "    @classmethod\n",
    "    def gen_sidewinder(cls, h: int, w: int):\n",
    "        cls = Maze(h, w)\n",
    "        cls.fill()\n",
    "        for i in range(h-1):\n",
    "            sequence = []\n",
    "            for j in range(w-1):\n",
    "                sequence.append((i, j))\n",
    "                choix = random.randint(1, 2)\n",
    "                if choix == 1:\n",
    "                    cls.remove_wall(sequence[-1], (sequence[-1][0], sequence[-1][1]+1))\n",
    "                else:\n",
    "                    choisit = random.randint(0, len(sequence)-1)\n",
    "                    cls.remove_wall(sequence[choisit], (sequence[choisit][0]+1, sequence[choisit][1]))\n",
    "                    sequence = []\n",
    "            sequence.append((i, j+1))\n",
    "            choisitFin = random.randint(0, len(sequence)-1)\n",
    "            cls.remove_wall(sequence[choisitFin], (sequence[choisitFin][0]+1, sequence[choisitFin][1]))\n",
    "        for cellule in range(w-1):\n",
    "            cls.remove_wall((h-1, cellule), (h-1, cellule+1))\n",
    "        return cls \n",
    "    \n",
    "    @classmethod\n",
    "    def gen_fusion(cls,h: int,w: int):\n",
    "        cls = Maze(h, w)\n",
    "        cls.fill()\n",
    "        labels = []\n",
    "        for i in range(h - 1):\n",
    "            for j in range(w - 1):\n",
    "                labels.append(i * w + j)\n",
    "        walls = cls.get_walls()\n",
    "        random.shuffle(walls)\n",
    "        for wall in range(len(walls)): \n",
    "            c1 = walls[wall][0]\n",
    "            c2 = walls[wall][1]\n",
    "            label_c1 = labels[c1[0] * w + c1[1]]\n",
    "            label_c2 = labels[c2[0] * w + c2[1]]\n",
    "            if label_c1 != label_c2 :\n",
    "                cls.remove_wall(c1, c2)\n",
    "                labels[label_c2] = label_c1\n",
    "                for label in range(len(labels)):\n",
    "                    if labels[label] == label_c2:\n",
    "                        labels[label] = label_c1               \n",
    "        return cls\n",
    "    \n",
    "    @classmethod\n",
    "    def gen_exploration(cls, h: int, w: int):\n",
    "        cls = Maze(h, w)\n",
    "        cls.fill()\n",
    "        voisins = cls.neighbors\n",
    "        cellules = cls.get_cells()\n",
    "        cHasard = cellules[random.randint(0, len(cellules) - 1)]\n",
    "        marques = [False]*(len(cellules)-1)\n",
    "        marques[cHasard[0] * w + cHasard[1]] = True\n",
    "        pile = [cHasard]\n",
    "        voisinsNonVisite = []\n",
    "        while len(pile) > 0:\n",
    "            voisins = cls.neighbors\n",
    "            cellule = pile[-1]\n",
    "            del pile[-1]\n",
    "            for voisin in voisins[cellule]:\n",
    "                if marques[voisin[0] * w + voisin[1]] == False:\n",
    "                    voisinsNonVisite.append(voisin)\n",
    "            if len(voisinsNonVisite) > 0:\n",
    "                pile.append(cellule)\n",
    "                choix = random.choice(voisinsNonVisite)\n",
    "                cls.remove_wall(cellule, choix)\n",
    "                marques[choix[0] * w + choix[1]] = True\n",
    "                pile.append(choix)\n",
    "        return cls\n",
    "                    \n",
    "                    \n",
    "                \n",
    "                    "
   ]
  },
  {
   "cell_type": "code",
   "execution_count": null,
   "id": "641effa7c8ceb719",
   "metadata": {
    "ExecuteTime": {
     "end_time": "2024-03-07T10:41:26.655553Z",
     "start_time": "2024-03-07T10:41:26.653493Z"
    },
    "collapsed": false
   },
   "outputs": [],
   "source": []
  },
  {
   "cell_type": "code",
   "execution_count": 63,
   "id": "ff1a65aa",
   "metadata": {
    "ExecuteTime": {
     "end_time": "2024-03-07T10:41:26.752044Z",
     "start_time": "2024-03-07T10:41:26.748577Z"
    }
   },
   "outputs": [
    {
     "name": "stdout",
     "output_type": "stream",
     "text": [
      "**Informations sur le labyrinthe**\n",
      "- Dimensions de la grille : 4 x 4\n",
      "- Voisinages :\n",
      "{(0, 0): set(), (0, 1): set(), (0, 2): set(), (0, 3): set(), (1, 0): set(), (1, 1): set(), (1, 2): set(), (1, 3): set(), (2, 0): set(), (2, 1): set(), (2, 2): set(), (2, 3): set(), (3, 0): set(), (3, 1): set(), (3, 2): set(), (3, 3): set()}\n",
      "- Structure cohérente\n",
      "\n"
     ]
    }
   ],
   "source": [
    "laby = Maze(4, 4)\n",
    "print(laby.info())"
   ]
  },
  {
   "cell_type": "code",
   "execution_count": 64,
   "id": "d5028299",
   "metadata": {
    "ExecuteTime": {
     "end_time": "2024-03-07T10:41:26.769460Z",
     "start_time": "2024-03-07T10:41:26.766551Z"
    }
   },
   "outputs": [
    {
     "name": "stdout",
     "output_type": "stream",
     "text": [
      "┏━━━┳━━━┳━━━┳━━━┓\n",
      "┃   ┃   ┃   ┃   ┃\n",
      "┣━━━╋━━━╋━━━╋━━━┫\n",
      "┃   ┃   ┃   ┃   ┃\n",
      "┣━━━╋━━━╋━━━╋━━━┫\n",
      "┃   ┃   ┃   ┃   ┃\n",
      "┣━━━╋━━━╋━━━╋━━━┫\n",
      "┃   ┃   ┃   ┃   ┃\n",
      "┗━━━┻━━━┻━━━┻━━━┛\n",
      "\n"
     ]
    }
   ],
   "source": [
    "print(laby)"
   ]
  },
  {
   "cell_type": "code",
   "execution_count": 65,
   "id": "6d2963fb",
   "metadata": {
    "ExecuteTime": {
     "end_time": "2024-03-07T10:41:26.824758Z",
     "start_time": "2024-03-07T10:41:26.819974Z"
    }
   },
   "outputs": [
    {
     "name": "stdout",
     "output_type": "stream",
     "text": [
      "┏━━━┳━━━┳━━━┳━━━┓\n",
      "┃   ┃           ┃\n",
      "┣   ╋   ╋━━━╋   ┫\n",
      "┃   ┃       ┃   ┃\n",
      "┣   ╋━━━╋   ╋   ┫\n",
      "┃           ┃   ┃\n",
      "┣   ╋━━━╋━━━╋   ┫\n",
      "┃           ┃   ┃\n",
      "┗━━━┻━━━┻━━━┻━━━┛\n",
      "\n"
     ]
    }
   ],
   "source": [
    "laby.neighbors = {\n",
    "    (0, 0): {(1, 0)},\n",
    "    (0, 1): {(0, 2), (1, 1)},\n",
    "    (0, 2): {(0, 1), (0, 3)},\n",
    "    (0, 3): {(0, 2), (1, 3)},\n",
    "    (1, 0): {(2, 0), (0, 0)},\n",
    "    (1, 1): {(0, 1), (1, 2)},\n",
    "    (1, 2): {(1, 1), (2, 2)},\n",
    "    (1, 3): {(2, 3), (0, 3)},\n",
    "    (2, 0): {(1, 0), (2, 1), (3, 0)},\n",
    "    (2, 1): {(2, 0), (2, 2)},\n",
    "    (2, 2): {(1, 2), (2, 1)},\n",
    "    (2, 3): {(3, 3), (1, 3)},\n",
    "    (3, 0): {(3, 1), (2, 0)},\n",
    "    (3, 1): {(3, 2), (3, 0)},\n",
    "    (3, 2): {(3, 1)},\n",
    "    (3, 3): {(2, 3)}\n",
    "}\n",
    "\n",
    "print(laby)"
   ]
  },
  {
   "cell_type": "code",
   "execution_count": 66,
   "id": "60e87be7",
   "metadata": {
    "ExecuteTime": {
     "end_time": "2024-03-07T10:41:26.850574Z",
     "start_time": "2024-03-07T10:41:26.847276Z"
    }
   },
   "outputs": [
    {
     "name": "stdout",
     "output_type": "stream",
     "text": [
      "┏━━━┳━━━┳━━━┳━━━┓\n",
      "┃   ┃           ┃\n",
      "┣   ╋   ╋━━━╋   ┫\n",
      "┃   ┃       ┃   ┃\n",
      "┣   ╋━━━╋   ╋━━━┫\n",
      "┃           ┃   ┃\n",
      "┣   ╋━━━╋━━━╋   ┫\n",
      "┃           ┃   ┃\n",
      "┗━━━┻━━━┻━━━┻━━━┛\n",
      "\n"
     ]
    }
   ],
   "source": [
    "laby.neighbors[(1,3)].remove((2,3))\n",
    "laby.neighbors[(2,3)].remove((1,3))\n",
    "print(laby)"
   ]
  },
  {
   "cell_type": "code",
   "execution_count": 67,
   "id": "f9a20f58",
   "metadata": {
    "ExecuteTime": {
     "end_time": "2024-03-07T10:41:26.959374Z",
     "start_time": "2024-03-07T10:41:26.955126Z"
    }
   },
   "outputs": [
    {
     "name": "stdout",
     "output_type": "stream",
     "text": [
      "┏━━━┳━━━┳━━━┳━━━┓\n",
      "┃   ┃           ┃\n",
      "┣   ╋   ╋━━━╋   ┫\n",
      "┃   ┃       ┃   ┃\n",
      "┣   ╋━━━╋   ╋   ┫\n",
      "┃           ┃   ┃\n",
      "┣   ╋━━━╋━━━╋   ┫\n",
      "┃           ┃   ┃\n",
      "┗━━━┻━━━┻━━━┻━━━┛\n",
      "\n"
     ]
    }
   ],
   "source": [
    "laby.neighbors[(1, 3)].add((2, 3))\n",
    "laby.neighbors[(2, 3)].add((1, 3))\n",
    "print(laby)"
   ]
  },
  {
   "cell_type": "code",
   "execution_count": 68,
   "id": "80325bf0",
   "metadata": {
    "ExecuteTime": {
     "end_time": "2024-03-07T10:41:26.992928Z",
     "start_time": "2024-03-07T10:41:26.989384Z"
    }
   },
   "outputs": [
    {
     "name": "stdout",
     "output_type": "stream",
     "text": [
      "┏━━━┳━━━┳━━━┳━━━┓\n",
      "┃   ┃           ┃\n",
      "┣   ╋   ╋━━━╋   ┫\n",
      "┃   ┃       ┃   ┃\n",
      "┣   ╋━━━╋   ╋━━━┫\n",
      "┃           ┃   ┃\n",
      "┣   ╋━━━╋━━━╋   ┫\n",
      "┃           ┃   ┃\n",
      "┗━━━┻━━━┻━━━┻━━━┛\n",
      "\n",
      "**Informations sur le labyrinthe**\n",
      "- Dimensions de la grille : 4 x 4\n",
      "- Voisinages :\n",
      "{(0, 0): {(1, 0)}, (0, 1): {(1, 1), (0, 2)}, (0, 2): {(0, 1), (0, 3)}, (0, 3): {(0, 2), (1, 3)}, (1, 0): {(2, 0), (0, 0)}, (1, 1): {(0, 1), (1, 2)}, (1, 2): {(1, 1), (2, 2)}, (1, 3): {(0, 3)}, (2, 0): {(1, 0), (2, 1), (3, 0)}, (2, 1): {(2, 0), (2, 2)}, (2, 2): {(1, 2), (2, 1)}, (2, 3): {(3, 3), (1, 3)}, (3, 0): {(3, 1), (2, 0)}, (3, 1): {(3, 2), (3, 0)}, (3, 2): {(3, 1)}, (3, 3): {(2, 3)}}\n",
      "- Structure incohérente : (2, 3) X (1, 3)\n",
      "\n"
     ]
    }
   ],
   "source": [
    "laby.neighbors[(1, 3)].remove((2, 3))\n",
    "print(laby)\n",
    "print(laby.info())"
   ]
  },
  {
   "cell_type": "code",
   "execution_count": 69,
   "id": "6c2ab3ab",
   "metadata": {
    "ExecuteTime": {
     "end_time": "2024-03-07T10:41:27.072016Z",
     "start_time": "2024-03-07T10:41:27.068958Z"
    }
   },
   "outputs": [],
   "source": [
    "laby.neighbors[(2, 3)].remove((1,3))"
   ]
  },
  {
   "cell_type": "code",
   "execution_count": 70,
   "id": "46b723a3",
   "metadata": {
    "ExecuteTime": {
     "end_time": "2024-03-07T10:41:27.093224Z",
     "start_time": "2024-03-07T10:41:27.089024Z"
    }
   },
   "outputs": [
    {
     "name": "stdout",
     "output_type": "stream",
     "text": [
      "Il y a un mur entre (1, 3) et (2, 3) car (1, 3) n'est pas dans le voisinage de (2, 3) et (2, 3) n'est pas dans le voisinage de (1, 3)\n"
     ]
    }
   ],
   "source": [
    "c1 = (1, 3)\n",
    "c2 = (2, 3)\n",
    "if c1 in laby.neighbors[c2] and c2 in laby.neighbors[c1]:\n",
    "    print(f\"Il n'y a pas de mur entre {c1} et {c2} car elles sont mutuellement voisines\")\n",
    "elif c1 not in laby.neighbors[c2] and c2 not in laby.neighbors[c1]:\n",
    "    print(f\"Il y a un mur entre {c1} et {c2} car {c1} n'est pas dans le voisinage de {c2} et {c2} n'est pas dans le voisinage de {c1}\")\n",
    "else:\n",
    "    print(f\"Il y a une incohérence de réciprocité des voisinages de {c1} et {c2}\")"
   ]
  },
  {
   "cell_type": "code",
   "execution_count": 71,
   "id": "88295003",
   "metadata": {
    "ExecuteTime": {
     "end_time": "2024-03-07T10:41:27.111890Z",
     "start_time": "2024-03-07T10:41:27.108232Z"
    }
   },
   "outputs": [
    {
     "name": "stdout",
     "output_type": "stream",
     "text": [
      "(1, 3) n'est pas accessible depuis (2, 3) et vice-versa\n"
     ]
    }
   ],
   "source": [
    "c1 = (1, 3)\n",
    "c2 = (2, 3)\n",
    "if c1 in laby.neighbors[c2] and c2 in laby.neighbors[c1]:\n",
    "    print(f\"{c1} est accessible depuis {c2} et vice-versa\")\n",
    "elif c1 not in laby.neighbors[c2] and c2 not in laby.neighbors[c1]:\n",
    "    print(f\"{c1} n'est pas accessible depuis {c2} et vice-versa\")\n",
    "else:\n",
    "    print(f\"Il y a une incohérence de réciprocité des voisinages de {c1} et {c2}\")"
   ]
  },
  {
   "cell_type": "code",
   "execution_count": 72,
   "id": "16ee62a1",
   "metadata": {
    "ExecuteTime": {
     "end_time": "2024-03-07T10:41:27.199519Z",
     "start_time": "2024-03-07T10:41:27.195922Z"
    }
   },
   "outputs": [
    {
     "name": "stdout",
     "output_type": "stream",
     "text": [
      "Liste des cellules : \n",
      "[(0, 0), (0, 1), (0, 2), (0, 3), (1, 0), (1, 1), (1, 2), (1, 3), (2, 0), (2, 1), (2, 2), (2, 3), (3, 0), (3, 1), (3, 2), (3, 3)]\n"
     ]
    }
   ],
   "source": [
    "L = []\n",
    "for i in range(laby.height):\n",
    "    for j in range(laby.width):\n",
    "        L.append((i,j))\n",
    "print(f\"Liste des cellules : \\n{L}\")"
   ]
  },
  {
   "cell_type": "code",
   "execution_count": 73,
   "id": "f98fad0c",
   "metadata": {
    "ExecuteTime": {
     "end_time": "2024-03-07T10:41:27.318478Z",
     "start_time": "2024-03-07T10:41:27.314548Z"
    }
   },
   "outputs": [
    {
     "name": "stdout",
     "output_type": "stream",
     "text": [
      "┏━━━┳━━━┳━━━┳━━━┳━━━┓\n",
      "┃   ┃   ┃   ┃   ┃   ┃\n",
      "┣━━━╋━━━╋━━━╋━━━╋━━━┫\n",
      "┃   ┃   ┃   ┃   ┃   ┃\n",
      "┣━━━╋━━━╋━━━╋━━━╋━━━┫\n",
      "┃   ┃   ┃   ┃   ┃   ┃\n",
      "┣━━━╋━━━╋━━━╋━━━╋━━━┫\n",
      "┃   ┃   ┃   ┃   ┃   ┃\n",
      "┣━━━╋━━━╋━━━╋━━━╋━━━┫\n",
      "┃   ┃   ┃   ┃   ┃   ┃\n",
      "┗━━━┻━━━┻━━━┻━━━┻━━━┛\n",
      "\n"
     ]
    }
   ],
   "source": [
    "laby = Maze(5, 5)\n",
    "print(laby)"
   ]
  },
  {
   "cell_type": "code",
   "execution_count": 74,
   "id": "cb204604",
   "metadata": {
    "ExecuteTime": {
     "end_time": "2024-03-07T10:41:27.360629Z",
     "start_time": "2024-03-07T10:41:27.357996Z"
    }
   },
   "outputs": [],
   "source": [
    "#laby = Maze(5, 5)\n",
    "#laby.empty()\n",
    "#print(laby)"
   ]
  },
  {
   "cell_type": "code",
   "execution_count": 75,
   "id": "af5298e3",
   "metadata": {
    "ExecuteTime": {
     "end_time": "2024-03-07T10:41:27.449717Z",
     "start_time": "2024-03-07T10:41:27.446159Z"
    }
   },
   "outputs": [
    {
     "name": "stdout",
     "output_type": "stream",
     "text": [
      "┏━━━┳━━━┳━━━┳━━━┳━━━┓\n",
      "┃   ┃   ┃   ┃   ┃   ┃\n",
      "┣━━━╋━━━╋━━━╋━━━╋━━━┫\n",
      "┃   ┃   ┃   ┃   ┃   ┃\n",
      "┣━━━╋━━━╋━━━╋━━━╋━━━┫\n",
      "┃   ┃   ┃   ┃   ┃   ┃\n",
      "┣━━━╋━━━╋━━━╋━━━╋━━━┫\n",
      "┃   ┃   ┃   ┃   ┃   ┃\n",
      "┣━━━╋━━━╋━━━╋━━━╋━━━┫\n",
      "┃   ┃   ┃   ┃   ┃   ┃\n",
      "┗━━━┻━━━┻━━━┻━━━┻━━━┛\n",
      "\n"
     ]
    }
   ],
   "source": [
    "laby.add_wall((0,0), (0,1))\n",
    "print(laby)"
   ]
  },
  {
   "cell_type": "code",
   "execution_count": 76,
   "id": "6dd4690f",
   "metadata": {
    "ExecuteTime": {
     "end_time": "2024-03-07T10:41:27.485643Z",
     "start_time": "2024-03-07T10:41:27.482228Z"
    }
   },
   "outputs": [
    {
     "name": "stdout",
     "output_type": "stream",
     "text": [
      "┏━━━┳━━━┳━━━┳━━━┳━━━┓\n",
      "┃   ┃       ┃   ┃   ┃\n",
      "┣━━━╋━━━╋━━━╋━━━╋━━━┫\n",
      "┃   ┃   ┃   ┃   ┃   ┃\n",
      "┣━━━╋━━━╋━━━╋━━━╋━━━┫\n",
      "┃   ┃   ┃   ┃   ┃   ┃\n",
      "┣━━━╋━━━╋━━━╋━━━╋━━━┫\n",
      "┃   ┃   ┃   ┃   ┃   ┃\n",
      "┣━━━╋━━━╋━━━╋━━━╋━━━┫\n",
      "┃   ┃   ┃   ┃   ┃   ┃\n",
      "┗━━━┻━━━┻━━━┻━━━┻━━━┛\n",
      "\n"
     ]
    }
   ],
   "source": [
    "laby.remove_wall((0, 1), (0, 2))\n",
    "print(laby)"
   ]
  },
  {
   "cell_type": "code",
   "execution_count": 77,
   "id": "c1bdd96c",
   "metadata": {
    "ExecuteTime": {
     "end_time": "2024-03-07T10:41:27.538549Z",
     "start_time": "2024-03-07T10:41:27.535670Z"
    }
   },
   "outputs": [
    {
     "name": "stdout",
     "output_type": "stream",
     "text": [
      "[((0, 0), (0, 1)), ((0, 0), (1, 0)), ((0, 1), (1, 1)), ((0, 2), (0, 3)), ((0, 2), (1, 2)), ((0, 3), (0, 4)), ((0, 3), (1, 3)), ((0, 4), (1, 4)), ((1, 0), (1, 1)), ((1, 0), (2, 0)), ((1, 1), (1, 2)), ((1, 1), (2, 1)), ((1, 2), (1, 3)), ((1, 2), (2, 2)), ((1, 3), (1, 4)), ((1, 3), (2, 3)), ((1, 4), (2, 4)), ((2, 0), (2, 1)), ((2, 0), (3, 0)), ((2, 1), (2, 2)), ((2, 1), (3, 1)), ((2, 2), (2, 3)), ((2, 2), (3, 2)), ((2, 3), (2, 4)), ((2, 3), (3, 3)), ((2, 4), (3, 4)), ((3, 0), (3, 1)), ((3, 0), (4, 0)), ((3, 1), (3, 2)), ((3, 1), (4, 1)), ((3, 2), (3, 3)), ((3, 2), (4, 2)), ((3, 3), (3, 4)), ((3, 3), (4, 3)), ((3, 4), (4, 4)), ((4, 0), (4, 1)), ((4, 1), (4, 2)), ((4, 2), (4, 3)), ((4, 3), (4, 4))]\n"
     ]
    }
   ],
   "source": [
    "print(laby.get_walls())"
   ]
  },
  {
   "cell_type": "code",
   "execution_count": 78,
   "id": "75503017",
   "metadata": {
    "ExecuteTime": {
     "end_time": "2024-03-07T10:41:27.549746Z",
     "start_time": "2024-03-07T10:41:27.545554Z"
    }
   },
   "outputs": [
    {
     "data": {
      "text/plain": [
       "[(0, 0),\n",
       " (0, 1),\n",
       " (0, 2),\n",
       " (0, 3),\n",
       " (0, 4),\n",
       " (1, 0),\n",
       " (1, 1),\n",
       " (1, 2),\n",
       " (1, 3),\n",
       " (1, 4),\n",
       " (2, 0),\n",
       " (2, 1),\n",
       " (2, 2),\n",
       " (2, 3),\n",
       " (2, 4),\n",
       " (3, 0),\n",
       " (3, 1),\n",
       " (3, 2),\n",
       " (3, 3),\n",
       " (3, 4),\n",
       " (4, 0),\n",
       " (4, 1),\n",
       " (4, 2),\n",
       " (4, 3),\n",
       " (4, 4)]"
      ]
     },
     "execution_count": 78,
     "metadata": {},
     "output_type": "execute_result"
    }
   ],
   "source": [
    "laby = Maze(5,5)\n",
    "laby.get_cells()"
   ]
  },
  {
   "cell_type": "code",
   "execution_count": 79,
   "id": "2bd7002f",
   "metadata": {
    "ExecuteTime": {
     "end_time": "2024-03-07T10:41:27.571005Z",
     "start_time": "2024-03-07T10:41:27.568253Z"
    }
   },
   "outputs": [
    {
     "name": "stdout",
     "output_type": "stream",
     "text": [
      "┏━━━┳━━━┳━━━┳━━━┳━━━┓\n",
      "┃   ┃       ┃   ┃   ┃\n",
      "┣━━━╋━━━╋━━━╋━━━╋━━━┫\n",
      "┃   ┃   ┃   ┃   ┃   ┃\n",
      "┣━━━╋━━━╋━━━╋━━━╋━━━┫\n",
      "┃   ┃   ┃   ┃   ┃   ┃\n",
      "┣━━━╋━━━╋━━━╋━━━╋━━━┫\n",
      "┃   ┃   ┃   ┃   ┃   ┃\n",
      "┣━━━╋━━━╋━━━╋━━━╋━━━┫\n",
      "┃   ┃   ┃   ┃   ┃   ┃\n",
      "┗━━━┻━━━┻━━━┻━━━┻━━━┛\n",
      "\n"
     ]
    }
   ],
   "source": [
    "laby.remove_wall((0, 1), (0, 2))\n",
    "print(laby)\n"
   ]
  },
  {
   "cell_type": "code",
   "execution_count": 80,
   "id": "5ed5a4c3",
   "metadata": {
    "ExecuteTime": {
     "end_time": "2024-03-07T10:41:27.654181Z",
     "start_time": "2024-03-07T10:41:27.651028Z"
    }
   },
   "outputs": [
    {
     "name": "stdout",
     "output_type": "stream",
     "text": [
      "┏━━━┳━━━┳━━━┳━━━┳━━━┓\n",
      "┃   ┃   ┃   ┃   ┃   ┃\n",
      "┣━━━╋━━━╋━━━╋━━━╋━━━┫\n",
      "┃   ┃   ┃   ┃   ┃   ┃\n",
      "┣━━━╋━━━╋━━━╋━━━╋━━━┫\n",
      "┃   ┃   ┃   ┃   ┃   ┃\n",
      "┣━━━╋━━━╋━━━╋━━━╋━━━┫\n",
      "┃   ┃   ┃   ┃   ┃   ┃\n",
      "┣━━━╋━━━╋━━━╋━━━╋━━━┫\n",
      "┃   ┃   ┃   ┃   ┃   ┃\n",
      "┗━━━┻━━━┻━━━┻━━━┻━━━┛\n",
      "\n"
     ]
    }
   ],
   "source": [
    "laby.fill()\n",
    "print(laby)"
   ]
  },
  {
   "cell_type": "code",
   "execution_count": 81,
   "id": "e6bfa59a",
   "metadata": {
    "ExecuteTime": {
     "end_time": "2024-03-07T10:41:27.671312Z",
     "start_time": "2024-03-07T10:41:27.668190Z"
    }
   },
   "outputs": [
    {
     "name": "stdout",
     "output_type": "stream",
     "text": [
      "┏━━━┳━━━┳━━━┳━━━┳━━━┓\n",
      "┃                   ┃\n",
      "┣   ╋   ╋   ╋   ╋   ┫\n",
      "┃                   ┃\n",
      "┣   ╋   ╋   ╋   ╋   ┫\n",
      "┃                   ┃\n",
      "┣   ╋   ╋   ╋   ╋   ┫\n",
      "┃                   ┃\n",
      "┣   ╋   ╋   ╋   ╋   ┫\n",
      "┃                   ┃\n",
      "┗━━━┻━━━┻━━━┻━━━┻━━━┛\n",
      "\n"
     ]
    }
   ],
   "source": [
    "laby.empty()\n",
    "print(laby)"
   ]
  },
  {
   "cell_type": "code",
   "execution_count": 82,
   "id": "dd6ea3af",
   "metadata": {
    "ExecuteTime": {
     "end_time": "2024-03-07T10:41:27.688121Z",
     "start_time": "2024-03-07T10:41:27.684818Z"
    }
   },
   "outputs": [
    {
     "name": "stdout",
     "output_type": "stream",
     "text": [
      "[(0, 1), (1, 0)]\n"
     ]
    }
   ],
   "source": [
    "print(laby.get_contiguous_cells((0,0)))"
   ]
  },
  {
   "cell_type": "code",
   "execution_count": 83,
   "id": "abd7797a",
   "metadata": {
    "ExecuteTime": {
     "end_time": "2024-03-07T10:41:27.755990Z",
     "start_time": "2024-03-07T10:41:27.752646Z"
    }
   },
   "outputs": [
    {
     "name": "stdout",
     "output_type": "stream",
     "text": [
      "[(0, 1)]\n"
     ]
    }
   ],
   "source": [
    "laby.add_wall((0,0),(1,0))\n",
    "print(laby.get_reachable_cells((0,0)))"
   ]
  },
  {
   "cell_type": "code",
   "execution_count": 84,
   "id": "00669db6",
   "metadata": {
    "ExecuteTime": {
     "end_time": "2024-03-07T10:41:27.781358Z",
     "start_time": "2024-03-07T10:41:27.778498Z"
    }
   },
   "outputs": [
    {
     "name": "stdout",
     "output_type": "stream",
     "text": [
      "┏━━━┳━━━┳━━━┳━━━┳━━━┓\n",
      "┃                   ┃\n",
      "┣━━━╋   ╋   ╋   ╋   ┫\n",
      "┃                   ┃\n",
      "┣   ╋   ╋   ╋   ╋   ┫\n",
      "┃                   ┃\n",
      "┣   ╋   ╋   ╋   ╋   ┫\n",
      "┃                   ┃\n",
      "┣   ╋   ╋   ╋   ╋   ┫\n",
      "┃                   ┃\n",
      "┗━━━┻━━━┻━━━┻━━━┻━━━┛\n",
      "\n",
      "[((0, 0), (1, 0))]\n"
     ]
    }
   ],
   "source": [
    "print(laby)\n",
    "print(laby.get_walls())"
   ]
  },
  {
   "cell_type": "code",
   "execution_count": 85,
   "id": "f9e6f536",
   "metadata": {
    "ExecuteTime": {
     "end_time": "2024-03-07T10:41:27.850224Z",
     "start_time": "2024-03-07T10:41:27.847385Z"
    }
   },
   "outputs": [],
   "source": [
    "laby = Maze.gen_btree(10,10)"
   ]
  },
  {
   "cell_type": "code",
   "execution_count": 86,
   "id": "1efa6535",
   "metadata": {
    "ExecuteTime": {
     "end_time": "2024-03-07T10:41:27.870384Z",
     "start_time": "2024-03-07T10:41:27.867232Z"
    }
   },
   "outputs": [
    {
     "name": "stdout",
     "output_type": "stream",
     "text": [
      "┏━━━┳━━━┳━━━┳━━━┳━━━┳━━━┳━━━┳━━━┳━━━┳━━━┓\n",
      "┃                   ┃   ┃       ┃       ┃\n",
      "┣━━━╋━━━╋━━━╋━━━╋   ╋   ╋━━━╋   ╋━━━╋   ┫\n",
      "┃           ┃   ┃               ┃   ┃   ┃\n",
      "┣━━━╋━━━╋   ╋   ╋━━━╋━━━╋━━━╋   ╋   ╋   ┫\n",
      "┃   ┃   ┃   ┃   ┃                   ┃   ┃\n",
      "┣   ╋   ╋   ╋   ╋━━━╋━━━╋━━━╋━━━╋   ╋   ┫\n",
      "┃   ┃   ┃               ┃   ┃   ┃   ┃   ┃\n",
      "┣   ╋   ╋━━━╋━━━╋━━━╋   ╋   ╋   ╋   ╋   ┫\n",
      "┃   ┃       ┃                   ┃   ┃   ┃\n",
      "┣   ╋━━━╋   ╋━━━╋━━━╋━━━╋━━━╋   ╋   ╋   ┫\n",
      "┃           ┃   ┃   ┃   ┃           ┃   ┃\n",
      "┣━━━╋━━━╋   ╋   ╋   ╋   ╋━━━╋━━━╋   ╋   ┫\n",
      "┃           ┃                   ┃   ┃   ┃\n",
      "┣━━━╋━━━╋   ╋━━━╋━━━╋━━━╋━━━╋   ╋   ╋   ┫\n",
      "┃               ┃       ┃       ┃   ┃   ┃\n",
      "┣━━━╋━━━╋━━━╋   ╋━━━╋   ╋━━━╋   ╋   ╋   ┫\n",
      "┃               ┃       ┃   ┃           ┃\n",
      "┣━━━╋━━━╋━━━╋   ╋━━━╋   ╋   ╋━━━╋━━━╋   ┫\n",
      "┃                                       ┃\n",
      "┗━━━┻━━━┻━━━┻━━━┻━━━┻━━━┻━━━┻━━━┻━━━┻━━━┛\n",
      "\n"
     ]
    }
   ],
   "source": [
    "print(laby)"
   ]
  },
  {
   "cell_type": "code",
   "execution_count": 87,
   "id": "0c243239",
   "metadata": {
    "ExecuteTime": {
     "end_time": "2024-03-07T10:41:27.902569Z",
     "start_time": "2024-03-07T10:41:27.899392Z"
    }
   },
   "outputs": [
    {
     "name": "stdout",
     "output_type": "stream",
     "text": [
      "┏━━━┳━━━┳━━━┳━━━┳━━━┳━━━┳━━━┳━━━┳━━━┳━━━┓\n",
      "┃               ┃               ┃   ┃   ┃\n",
      "┣━━━╋   ╋━━━╋━━━╋   ╋━━━╋━━━╋━━━╋   ╋   ┫\n",
      "┃                                   ┃   ┃\n",
      "┣━━━╋━━━╋   ╋━━━╋━━━╋━━━╋━━━╋━━━╋━━━╋   ┫\n",
      "┃                   ┃   ┃               ┃\n",
      "┣━━━╋━━━╋━━━╋━━━╋   ╋   ╋   ╋━━━╋━━━╋━━━┫\n",
      "┃   ┃   ┃   ┃   ┃       ┃   ┃   ┃       ┃\n",
      "┣   ╋   ╋   ╋   ╋   ╋━━━╋   ╋   ╋   ╋━━━┫\n",
      "┃                       ┃       ┃       ┃\n",
      "┣   ╋━━━╋━━━╋━━━╋━━━╋━━━╋━━━╋   ╋━━━╋   ┫\n",
      "┃                       ┃       ┃   ┃   ┃\n",
      "┣━━━╋   ╋━━━╋━━━╋━━━╋━━━╋━━━╋   ╋   ╋   ┫\n",
      "┃                       ┃   ┃   ┃   ┃   ┃\n",
      "┣━━━╋   ╋━━━╋━━━╋━━━╋━━━╋   ╋   ╋   ╋   ┫\n",
      "┃   ┃           ┃       ┃       ┃   ┃   ┃\n",
      "┣   ╋━━━╋━━━╋   ╋   ╋━━━╋━━━╋   ╋   ╋   ┫\n",
      "┃           ┃   ┃               ┃   ┃   ┃\n",
      "┣━━━╋   ╋━━━╋   ╋   ╋━━━╋━━━╋━━━╋   ╋   ┫\n",
      "┃                                       ┃\n",
      "┗━━━┻━━━┻━━━┻━━━┻━━━┻━━━┻━━━┻━━━┻━━━┻━━━┛\n",
      "\n"
     ]
    }
   ],
   "source": [
    "laby = Maze.gen_sidewinder(10, 10)\n",
    "print(laby)"
   ]
  },
  {
   "cell_type": "code",
   "execution_count": 88,
   "id": "5c03de59",
   "metadata": {
    "ExecuteTime": {
     "end_time": "2024-03-07T10:41:28.217800Z",
     "start_time": "2024-03-07T10:41:27.969095Z"
    }
   },
   "outputs": [
    {
     "ename": "IndexError",
     "evalue": "list index out of range",
     "output_type": "error",
     "traceback": [
      "\u001b[1;31m---------------------------------------------------------------------------\u001b[0m",
      "\u001b[1;31mIndexError\u001b[0m                                Traceback (most recent call last)",
      "Cell \u001b[1;32mIn[88], line 1\u001b[0m\n\u001b[1;32m----> 1\u001b[0m laby \u001b[38;5;241m=\u001b[39m \u001b[43mMaze\u001b[49m\u001b[38;5;241;43m.\u001b[39;49m\u001b[43mgen_fusion\u001b[49m\u001b[43m(\u001b[49m\u001b[38;5;241;43m15\u001b[39;49m\u001b[43m,\u001b[49m\u001b[38;5;241;43m15\u001b[39;49m\u001b[43m)\u001b[49m\n\u001b[0;32m      2\u001b[0m \u001b[38;5;28mprint\u001b[39m(laby)\n",
      "Cell \u001b[1;32mIn[62], line 215\u001b[0m, in \u001b[0;36mMaze.gen_fusion\u001b[1;34m(cls, h, w)\u001b[0m\n\u001b[0;32m    213\u001b[0m c1 \u001b[38;5;241m=\u001b[39m walls[wall][\u001b[38;5;241m0\u001b[39m]\n\u001b[0;32m    214\u001b[0m c2 \u001b[38;5;241m=\u001b[39m walls[wall][\u001b[38;5;241m1\u001b[39m]\n\u001b[1;32m--> 215\u001b[0m label_c1 \u001b[38;5;241m=\u001b[39m \u001b[43mlabels\u001b[49m\u001b[43m[\u001b[49m\u001b[43mc1\u001b[49m\u001b[43m[\u001b[49m\u001b[38;5;241;43m0\u001b[39;49m\u001b[43m]\u001b[49m\u001b[43m \u001b[49m\u001b[38;5;241;43m*\u001b[39;49m\u001b[43m \u001b[49m\u001b[43mw\u001b[49m\u001b[43m \u001b[49m\u001b[38;5;241;43m+\u001b[39;49m\u001b[43m \u001b[49m\u001b[43mc1\u001b[49m\u001b[43m[\u001b[49m\u001b[38;5;241;43m1\u001b[39;49m\u001b[43m]\u001b[49m\u001b[43m]\u001b[49m\n\u001b[0;32m    216\u001b[0m label_c2 \u001b[38;5;241m=\u001b[39m labels[c2[\u001b[38;5;241m0\u001b[39m] \u001b[38;5;241m*\u001b[39m w \u001b[38;5;241m+\u001b[39m c2[\u001b[38;5;241m1\u001b[39m]]\n\u001b[0;32m    217\u001b[0m \u001b[38;5;28;01mif\u001b[39;00m label_c1 \u001b[38;5;241m!=\u001b[39m label_c2 :\n",
      "\u001b[1;31mIndexError\u001b[0m: list index out of range"
     ]
    }
   ],
   "source": [
    "laby = Maze.gen_fusion(15,15)\n",
    "print(laby)"
   ]
  },
  {
   "cell_type": "code",
   "execution_count": 90,
   "id": "08e43d7e",
   "metadata": {
    "ExecuteTime": {
     "end_time": "2024-03-07T10:41:28.218810Z",
     "start_time": "2024-03-07T10:41:28.218810Z"
    }
   },
   "outputs": [
    {
     "name": "stdout",
     "output_type": "stream",
     "text": [
      "┏━━━┳━━━┳━━━┳━━━┳━━━┳━━━┳━━━┳━━━┳━━━┳━━━┓\n",
      "┃   ┃   ┃   ┃   ┃   ┃   ┃   ┃   ┃   ┃   ┃\n",
      "┣━━━╋━━━╋━━━╋━━━╋━━━╋━━━╋━━━╋━━━╋━━━╋━━━┫\n",
      "┃   ┃   ┃   ┃   ┃   ┃   ┃   ┃   ┃   ┃   ┃\n",
      "┣━━━╋━━━╋━━━╋━━━╋━━━╋━━━╋━━━╋━━━╋━━━╋━━━┫\n",
      "┃   ┃   ┃   ┃   ┃   ┃   ┃   ┃   ┃   ┃   ┃\n",
      "┣━━━╋━━━╋━━━╋━━━╋━━━╋━━━╋━━━╋━━━╋━━━╋━━━┫\n",
      "┃   ┃   ┃   ┃   ┃   ┃   ┃   ┃   ┃   ┃   ┃\n",
      "┣━━━╋━━━╋━━━╋━━━╋━━━╋━━━╋━━━╋━━━╋━━━╋━━━┫\n",
      "┃   ┃   ┃   ┃   ┃   ┃   ┃   ┃   ┃   ┃   ┃\n",
      "┣━━━╋━━━╋━━━╋━━━╋━━━╋━━━╋━━━╋━━━╋━━━╋━━━┫\n",
      "┃   ┃   ┃   ┃   ┃   ┃   ┃   ┃   ┃   ┃   ┃\n",
      "┣━━━╋━━━╋━━━╋━━━╋━━━╋━━━╋━━━╋━━━╋━━━╋━━━┫\n",
      "┃   ┃   ┃   ┃   ┃   ┃   ┃   ┃   ┃   ┃   ┃\n",
      "┣━━━╋━━━╋━━━╋━━━╋━━━╋━━━╋━━━╋━━━╋━━━╋━━━┫\n",
      "┃   ┃   ┃   ┃   ┃   ┃   ┃   ┃   ┃   ┃   ┃\n",
      "┣━━━╋━━━╋━━━╋━━━╋━━━╋━━━╋━━━╋━━━╋━━━╋━━━┫\n",
      "┃   ┃   ┃   ┃   ┃   ┃   ┃   ┃   ┃   ┃   ┃\n",
      "┣━━━╋━━━╋━━━╋━━━╋━━━╋━━━╋━━━╋━━━╋━━━╋━━━┫\n",
      "┃   ┃   ┃   ┃   ┃   ┃   ┃   ┃   ┃   ┃   ┃\n",
      "┗━━━┻━━━┻━━━┻━━━┻━━━┻━━━┻━━━┻━━━┻━━━┻━━━┛\n",
      "\n"
     ]
    }
   ],
   "source": [
    "laby = Maze.gen_exploration(10, 10)\n",
    "print(laby)"
   ]
  },
  {
   "cell_type": "code",
   "execution_count": null,
   "id": "89b49c0f",
   "metadata": {},
   "outputs": [],
   "source": []
  }
 ],
 "metadata": {
  "kernelspec": {
   "display_name": "Python 3 (ipykernel)",
   "language": "python",
   "name": "python3"
  },
  "language_info": {
   "codemirror_mode": {
    "name": "ipython",
    "version": 3
   },
   "file_extension": ".py",
   "mimetype": "text/x-python",
   "name": "python",
   "nbconvert_exporter": "python",
   "pygments_lexer": "ipython3",
   "version": "3.12.0"
  }
 },
 "nbformat": 4,
 "nbformat_minor": 5
}
