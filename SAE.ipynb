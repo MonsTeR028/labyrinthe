{
 "cells": [
  {
   "cell_type": "code",
   "execution_count": 547,
   "id": "41761848",
   "metadata": {},
   "outputs": [],
   "source": [
    "import random\n",
    "\n",
    "class Maze:\n",
    "    \"\"\"\n",
    "    Classe Labyrinthe\n",
    "    Représentation sous forme de graphe non-orienté\n",
    "    dont chaque sommet est une cellule (un tuple (l,c))\n",
    "    et dont la structure est représentée par un dictionnaire\n",
    "      - clés : sommets\n",
    "      - valeurs : ensemble des sommets voisins accessibles\n",
    "    \"\"\"\n",
    "    def __init__(self, height, width):\n",
    "        \"\"\"\n",
    "        Constructeur d'un labyrinthe de height cellules de haut \n",
    "        et de width cellules de large \n",
    "        Les voisinages sont initialisés à des ensembles vides\n",
    "        Remarque : dans le labyrinthe créé, chaque cellule est complètement emmurée\n",
    "        \"\"\"\n",
    "        self.height    = height\n",
    "        self.width     = width\n",
    "        self.neighbors = {(i,j): set() for i in range(height) for j in range (width)}\n",
    "\n",
    "    def info(self):\n",
    "        \"\"\"\n",
    "        **NE PAS MODIFIER CETTE MÉTHODE**\n",
    "        Affichage des attributs d'un objet 'Maze' (fonction utile pour deboguer)\n",
    "        Retour:\n",
    "            chaîne (string): description textuelle des attributs de l'objet\n",
    "        \"\"\"\n",
    "        txt = \"**Informations sur le labyrinthe**\\n\"\n",
    "        txt += f\"- Dimensions de la grille : {self.height} x {self.width}\\n\"\n",
    "        txt += \"- Voisinages :\\n\"\n",
    "        txt += str(self.neighbors)+\"\\n\"\n",
    "        valid = True\n",
    "        for c1 in {(i, j) for i in range(self.height) for j in range(self.width)}:\n",
    "            for c2 in self.neighbors[c1]:\n",
    "                if c1 not in self.neighbors[c2]:\n",
    "                    valid = False\n",
    "                    break\n",
    "            else:\n",
    "                continue\n",
    "            break\n",
    "        txt += \"- Structure cohérente\\n\" if valid else f\"- Structure incohérente : {c1} X {c2}\\n\"\n",
    "        return txt\n",
    "\n",
    "    def __str__(self):\n",
    "        \"\"\"\n",
    "        **NE PAS MODIFIER CETTE MÉTHODE**\n",
    "        Représentation textuelle d'un objet Maze (en utilisant des caractères ascii)\n",
    "        Retour:\n",
    "             chaîne (str) : chaîne de caractères représentant le labyrinthe\n",
    "        \"\"\"\n",
    "        txt = \"\"\n",
    "        # Première ligne\n",
    "        txt += \"┏\"\n",
    "        for j in range(self.width-1):\n",
    "            txt += \"━━━┳\"\n",
    "        txt += \"━━━┓\\n\"\n",
    "        txt += \"┃\"\n",
    "        for j in range(self.width-1):\n",
    "            txt += \"   ┃\" if (0,j+1) not in self.neighbors[(0,j)] else \"    \"\n",
    "        txt += \"   ┃\\n\"\n",
    "        # Lignes normales\n",
    "        for i in range(self.height-1):\n",
    "            txt += \"┣\"\n",
    "            for j in range(self.width-1):\n",
    "                txt += \"━━━╋\" if (i+1,j) not in self.neighbors[(i,j)] else \"   ╋\"\n",
    "            txt += \"━━━┫\\n\" if (i+1,self.width-1) not in self.neighbors[(i,self.width-1)] else \"   ┫\\n\"\n",
    "            txt += \"┃\"\n",
    "            for j in range(self.width):\n",
    "                txt += \"   ┃\" if (i+1,j+1) not in self.neighbors[(i+1,j)] else \"    \"\n",
    "            txt += \"\\n\"\n",
    "        # Bas du tableau\n",
    "        txt += \"┗\"\n",
    "        for i in range(self.width-1):\n",
    "            txt += \"━━━┻\"\n",
    "        txt += \"━━━┛\\n\"\n",
    "\n",
    "        return txt\n",
    "    \n",
    "    def add_wall(self, c1, c2):\n",
    "        # Facultatif : on teste si les sommets sont bien dans le labyrinthe\n",
    "        assert 0 <= c1[0] < self.height and \\\n",
    "            0 <= c1[1] < self.width and \\\n",
    "            0 <= c2[0] < self.height and \\\n",
    "            0 <= c2[1] < self.width, \\\n",
    "            f\"Erreur lors de l'ajout d'un mur entre {c1} et {c2} : les coordonnées de sont pas compatibles avec les dimensions du labyrinthe\"\n",
    "        # Ajout du mur\n",
    "        if c2 in self.neighbors[c1]:      # Si c2 est dans les voisines de c1\n",
    "            self.neighbors[c1].remove(c2) # on le retire\n",
    "        if c1 in self.neighbors[c2]:      # Si c3 est dans les voisines de c2\n",
    "            self.neighbors[c2].remove(c1) # on le retire\n",
    "            \n",
    "    def remove_wall(self, c1, c2) :     \n",
    "        self.neighbors[c1].add(c2)       \n",
    "        self.neighbors[c2].add(c1) \n",
    "        \n",
    "    def get_cells(self):\n",
    "        cellules = []\n",
    "        for i in range(0,self.height):\n",
    "            for j in range(0,self.width):\n",
    "                cellules.append((i,j))\n",
    "        return cellules\n",
    "         \n",
    "    def get_walls(self):\n",
    "        walls = []\n",
    "        for c1 in self.get_cells():\n",
    "            c2 = (c1[0],c1[1]+1)\n",
    "            c3 = (c1[0]+1,c1[1])\n",
    "            if c1[1]+1 < self.width and c2 not in self.neighbors[c1]:\n",
    "                walls.append((c1,c2))\n",
    "            if c1[0]+1 < self.height and c3 not in self.neighbors[c1]:\n",
    "                walls.append((c1,c3))\n",
    "        return walls\n",
    "    \n",
    "    def fill(self):\n",
    "        for c1 in self.get_cells():\n",
    "            c2 = (c1[0],c1[1]+1)\n",
    "            c3 = (c1[0]+1,c1[1])\n",
    "            if c2 in self.neighbors[c1]:\n",
    "                self.add_wall(c1,c2)\n",
    "            if c3 in self.neighbors[c1]:\n",
    "                self.add_wall(c1,c3)\n",
    "    \n",
    "    def empty(self):\n",
    "        for c1 in self.get_cells():\n",
    "            c2 = (c1[0], c1[1] + 1)\n",
    "            c3 = (c1[0] + 1, c1[1])\n",
    "            if c1[1]+1 < self.width:\n",
    "                self.remove_wall(c1, c2)\n",
    "            if c1[0]+1 < self.height:\n",
    "                self.remove_wall(c1, c3)\n",
    "                \n",
    "    def get_contiguous_cells(self, c):\n",
    "        listeContigue = []\n",
    "        if c[1] - 1 >= 0:\n",
    "            listeContigue.append((c[0], c[1] - 1))\n",
    "        if c[1] + 1 < self.width:\n",
    "            listeContigue.append((c[0], c[1] + 1))\n",
    "        if c[0] - 1 >= 0:\n",
    "            listeContigue.append((c[0] - 1, c[1]))\n",
    "        if c[0] + 1 < self.height:\n",
    "            listeContigue.append((c[0] + 1, c[1]))\n",
    "        return listeContigue \n",
    "    \n",
    "    def get_reachable_cells(self, c):\n",
    "        listeAccessible = []\n",
    "        for c1 in self.get_contiguous_cells(c):\n",
    "            if c1 in self.neighbors[c]:\n",
    "                listeAccessible.append(c1)\n",
    "        return listeAccessible\n",
    "\n",
    "    @classmethod\n",
    "    def gen_btree(cls, h: int, w: int):\n",
    "        cls = Maze(h, w)\n",
    "        cls.fill()\n",
    "        cEst = None\n",
    "        cSud = None\n",
    "        for cellule in cls.get_cells():\n",
    "            if cellule[1]+1 < w:\n",
    "                cEst = (cellule[0], cellule[1]+1)\n",
    "            if cellule[0]+1 < h:\n",
    "                cSud = (cellule[0]+1, cellule[1])\n",
    "                \n",
    "            if cEst == (cellule[0], cellule[1]+1) and \\\n",
    "                    cSud == (cellule[0]+1, cellule[1]):\n",
    "                if random.randint(1,2) == 1:\n",
    "                    cls.remove_wall(cellule, cEst)\n",
    "                else:\n",
    "                    cls.remove_wall(cellule, cSud)\n",
    "                    \n",
    "            if (cEst == (cellule[0], cellule[1]+1)) ^ \\\n",
    "                    (cSud == (cellule[0]+1, cellule[1])):\n",
    "                if cEst == (cellule[0], cellule[1]+1):\n",
    "                    cls.remove_wall(cellule, cEst)\n",
    "                if cSud == (cellule[0]+1, cellule[1]):\n",
    "                    cls.remove_wall(cellule, cSud)\n",
    "        return cls\n",
    "    \n",
    "    @classmethod\n",
    "    def gen_sidewinder(cls, h: int, w: int):\n",
    "        cls = Maze(h, w)\n",
    "        cls.fill()\n",
    "        for i in range(h-1):\n",
    "            sequence = []\n",
    "            for j in range(w-1):\n",
    "                sequence.append((i, j))\n",
    "                choix = random.randint(1, 2)\n",
    "                if choix == 1:\n",
    "                    cls.remove_wall(sequence[-1], (sequence[-1][0], sequence[-1][1]+1))\n",
    "                else:\n",
    "                    choisit = random.randint(0, len(sequence)-1)\n",
    "                    cls.remove_wall(sequence[choisit], (sequence[choisit][0]+1, sequence[choisit][1]))\n",
    "                    sequence = []\n",
    "            sequence.append((i, j+1))\n",
    "            choisitFin = random.randint(0, len(sequence)-1)\n",
    "            cls.remove_wall(sequence[choisitFin], (sequence[choisitFin][0]+1, sequence[choisitFin][1]))\n",
    "        for cellule in range(w-1):\n",
    "            cls.remove_wall((h-1, cellule), (h-1, cellule+1))\n",
    "        return cls"
   ]
  },
  {
   "cell_type": "code",
   "execution_count": 548,
   "id": "ff1a65aa",
   "metadata": {},
   "outputs": [
    {
     "name": "stdout",
     "output_type": "stream",
     "text": [
      "**Informations sur le labyrinthe**\n",
      "- Dimensions de la grille : 4 x 4\n",
      "- Voisinages :\n",
      "{(0, 0): set(), (0, 1): set(), (0, 2): set(), (0, 3): set(), (1, 0): set(), (1, 1): set(), (1, 2): set(), (1, 3): set(), (2, 0): set(), (2, 1): set(), (2, 2): set(), (2, 3): set(), (3, 0): set(), (3, 1): set(), (3, 2): set(), (3, 3): set()}\n",
      "- Structure cohérente\n",
      "\n"
     ]
    }
   ],
   "source": [
    "laby = Maze(4, 4)\n",
    "print(laby.info())"
   ]
  },
  {
   "cell_type": "code",
   "execution_count": 549,
   "id": "d5028299",
   "metadata": {},
   "outputs": [
    {
     "name": "stdout",
     "output_type": "stream",
     "text": [
      "┏━━━┳━━━┳━━━┳━━━┓\n",
      "┃   ┃   ┃   ┃   ┃\n",
      "┣━━━╋━━━╋━━━╋━━━┫\n",
      "┃   ┃   ┃   ┃   ┃\n",
      "┣━━━╋━━━╋━━━╋━━━┫\n",
      "┃   ┃   ┃   ┃   ┃\n",
      "┣━━━╋━━━╋━━━╋━━━┫\n",
      "┃   ┃   ┃   ┃   ┃\n",
      "┗━━━┻━━━┻━━━┻━━━┛\n",
      "\n"
     ]
    }
   ],
   "source": [
    "print(laby)"
   ]
  },
  {
   "cell_type": "code",
   "execution_count": 550,
   "id": "6d2963fb",
   "metadata": {},
   "outputs": [
    {
     "name": "stdout",
     "output_type": "stream",
     "text": [
      "┏━━━┳━━━┳━━━┳━━━┓\n",
      "┃   ┃           ┃\n",
      "┣   ╋   ╋━━━╋   ┫\n",
      "┃   ┃       ┃   ┃\n",
      "┣   ╋━━━╋   ╋   ┫\n",
      "┃           ┃   ┃\n",
      "┣   ╋━━━╋━━━╋   ┫\n",
      "┃           ┃   ┃\n",
      "┗━━━┻━━━┻━━━┻━━━┛\n",
      "\n"
     ]
    }
   ],
   "source": [
    "laby.neighbors = {\n",
    "    (0, 0): {(1, 0)},\n",
    "    (0, 1): {(0, 2), (1, 1)},\n",
    "    (0, 2): {(0, 1), (0, 3)},\n",
    "    (0, 3): {(0, 2), (1, 3)},\n",
    "    (1, 0): {(2, 0), (0, 0)},\n",
    "    (1, 1): {(0, 1), (1, 2)},\n",
    "    (1, 2): {(1, 1), (2, 2)},\n",
    "    (1, 3): {(2, 3), (0, 3)},\n",
    "    (2, 0): {(1, 0), (2, 1), (3, 0)},\n",
    "    (2, 1): {(2, 0), (2, 2)},\n",
    "    (2, 2): {(1, 2), (2, 1)},\n",
    "    (2, 3): {(3, 3), (1, 3)},\n",
    "    (3, 0): {(3, 1), (2, 0)},\n",
    "    (3, 1): {(3, 2), (3, 0)},\n",
    "    (3, 2): {(3, 1)},\n",
    "    (3, 3): {(2, 3)}\n",
    "}\n",
    "\n",
    "print(laby)"
   ]
  },
  {
   "cell_type": "code",
   "execution_count": 551,
   "id": "60e87be7",
   "metadata": {},
   "outputs": [
    {
     "name": "stdout",
     "output_type": "stream",
     "text": [
      "┏━━━┳━━━┳━━━┳━━━┓\n",
      "┃   ┃           ┃\n",
      "┣   ╋   ╋━━━╋   ┫\n",
      "┃   ┃       ┃   ┃\n",
      "┣   ╋━━━╋   ╋━━━┫\n",
      "┃           ┃   ┃\n",
      "┣   ╋━━━╋━━━╋   ┫\n",
      "┃           ┃   ┃\n",
      "┗━━━┻━━━┻━━━┻━━━┛\n",
      "\n"
     ]
    }
   ],
   "source": [
    "laby.neighbors[(1,3)].remove((2,3))\n",
    "laby.neighbors[(2,3)].remove((1,3))\n",
    "print(laby)"
   ]
  },
  {
   "cell_type": "code",
   "execution_count": 552,
   "id": "f9a20f58",
   "metadata": {},
   "outputs": [
    {
     "name": "stdout",
     "output_type": "stream",
     "text": [
      "┏━━━┳━━━┳━━━┳━━━┓\n",
      "┃   ┃           ┃\n",
      "┣   ╋   ╋━━━╋   ┫\n",
      "┃   ┃       ┃   ┃\n",
      "┣   ╋━━━╋   ╋   ┫\n",
      "┃           ┃   ┃\n",
      "┣   ╋━━━╋━━━╋   ┫\n",
      "┃           ┃   ┃\n",
      "┗━━━┻━━━┻━━━┻━━━┛\n",
      "\n"
     ]
    }
   ],
   "source": [
    "laby.neighbors[(1, 3)].add((2, 3))\n",
    "laby.neighbors[(2, 3)].add((1, 3))\n",
    "print(laby)"
   ]
  },
  {
   "cell_type": "code",
   "execution_count": 553,
   "id": "80325bf0",
   "metadata": {},
   "outputs": [
    {
     "name": "stdout",
     "output_type": "stream",
     "text": [
      "┏━━━┳━━━┳━━━┳━━━┓\n",
      "┃   ┃           ┃\n",
      "┣   ╋   ╋━━━╋   ┫\n",
      "┃   ┃       ┃   ┃\n",
      "┣   ╋━━━╋   ╋━━━┫\n",
      "┃           ┃   ┃\n",
      "┣   ╋━━━╋━━━╋   ┫\n",
      "┃           ┃   ┃\n",
      "┗━━━┻━━━┻━━━┻━━━┛\n",
      "\n",
      "**Informations sur le labyrinthe**\n",
      "- Dimensions de la grille : 4 x 4\n",
      "- Voisinages :\n",
      "{(0, 0): {(1, 0)}, (0, 1): {(1, 1), (0, 2)}, (0, 2): {(0, 1), (0, 3)}, (0, 3): {(0, 2), (1, 3)}, (1, 0): {(2, 0), (0, 0)}, (1, 1): {(0, 1), (1, 2)}, (1, 2): {(1, 1), (2, 2)}, (1, 3): {(0, 3)}, (2, 0): {(1, 0), (2, 1), (3, 0)}, (2, 1): {(2, 0), (2, 2)}, (2, 2): {(1, 2), (2, 1)}, (2, 3): {(3, 3), (1, 3)}, (3, 0): {(3, 1), (2, 0)}, (3, 1): {(3, 2), (3, 0)}, (3, 2): {(3, 1)}, (3, 3): {(2, 3)}}\n",
      "- Structure incohérente : (2, 3) X (1, 3)\n",
      "\n"
     ]
    }
   ],
   "source": [
    "laby.neighbors[(1, 3)].remove((2, 3))\n",
    "print(laby)\n",
    "print(laby.info())"
   ]
  },
  {
   "cell_type": "code",
   "execution_count": 554,
   "id": "6c2ab3ab",
   "metadata": {},
   "outputs": [],
   "source": [
    "laby.neighbors[(2, 3)].remove((1,3))"
   ]
  },
  {
   "cell_type": "code",
   "execution_count": 555,
   "id": "46b723a3",
   "metadata": {},
   "outputs": [
    {
     "name": "stdout",
     "output_type": "stream",
     "text": [
      "Il y a un mur entre (1, 3) et (2, 3) car (1, 3) n'est pas dans le voisinage de (2, 3) et (2, 3) n'est pas dans le voisinage de (1, 3)\n"
     ]
    }
   ],
   "source": [
    "c1 = (1, 3)\n",
    "c2 = (2, 3)\n",
    "if c1 in laby.neighbors[c2] and c2 in laby.neighbors[c1]:\n",
    "    print(f\"Il n'y a pas de mur entre {c1} et {c2} car elles sont mutuellement voisines\")\n",
    "elif c1 not in laby.neighbors[c2] and c2 not in laby.neighbors[c1]:\n",
    "    print(f\"Il y a un mur entre {c1} et {c2} car {c1} n'est pas dans le voisinage de {c2} et {c2} n'est pas dans le voisinage de {c1}\")\n",
    "else:\n",
    "    print(f\"Il y a une incohérence de réciprocité des voisinages de {c1} et {c2}\")"
   ]
  },
  {
   "cell_type": "code",
   "execution_count": 556,
   "id": "88295003",
   "metadata": {},
   "outputs": [
    {
     "name": "stdout",
     "output_type": "stream",
     "text": [
      "(1, 3) n'est pas accessible depuis (2, 3) et vice-versa\n"
     ]
    }
   ],
   "source": [
    "c1 = (1, 3)\n",
    "c2 = (2, 3)\n",
    "if c1 in laby.neighbors[c2] and c2 in laby.neighbors[c1]:\n",
    "    print(f\"{c1} est accessible depuis {c2} et vice-versa\")\n",
    "elif c1 not in laby.neighbors[c2] and c2 not in laby.neighbors[c1]:\n",
    "    print(f\"{c1} n'est pas accessible depuis {c2} et vice-versa\")\n",
    "else:\n",
    "    print(f\"Il y a une incohérence de réciprocité des voisinages de {c1} et {c2}\")"
   ]
  },
  {
   "cell_type": "code",
   "execution_count": 557,
   "id": "16ee62a1",
   "metadata": {},
   "outputs": [
    {
     "name": "stdout",
     "output_type": "stream",
     "text": [
      "Liste des cellules : \n",
      "[(0, 0), (0, 1), (0, 2), (0, 3), (1, 0), (1, 1), (1, 2), (1, 3), (2, 0), (2, 1), (2, 2), (2, 3), (3, 0), (3, 1), (3, 2), (3, 3)]\n"
     ]
    }
   ],
   "source": [
    "L = []\n",
    "for i in range(laby.height):\n",
    "    for j in range(laby.width):\n",
    "        L.append((i,j))\n",
    "print(f\"Liste des cellules : \\n{L}\")"
   ]
  },
  {
   "cell_type": "code",
   "execution_count": 558,
   "id": "f98fad0c",
   "metadata": {},
   "outputs": [
    {
     "name": "stdout",
     "output_type": "stream",
     "text": [
      "┏━━━┳━━━┳━━━┳━━━┳━━━┓\n",
      "┃   ┃   ┃   ┃   ┃   ┃\n",
      "┣━━━╋━━━╋━━━╋━━━╋━━━┫\n",
      "┃   ┃   ┃   ┃   ┃   ┃\n",
      "┣━━━╋━━━╋━━━╋━━━╋━━━┫\n",
      "┃   ┃   ┃   ┃   ┃   ┃\n",
      "┣━━━╋━━━╋━━━╋━━━╋━━━┫\n",
      "┃   ┃   ┃   ┃   ┃   ┃\n",
      "┣━━━╋━━━╋━━━╋━━━╋━━━┫\n",
      "┃   ┃   ┃   ┃   ┃   ┃\n",
      "┗━━━┻━━━┻━━━┻━━━┻━━━┛\n",
      "\n"
     ]
    }
   ],
   "source": [
    "laby = Maze(5, 5)\n",
    "print(laby)"
   ]
  },
  {
   "cell_type": "code",
   "execution_count": 559,
   "id": "cb204604",
   "metadata": {},
   "outputs": [],
   "source": [
    "#laby = Maze(5, 5)\n",
    "#laby.empty()\n",
    "#print(laby)"
   ]
  },
  {
   "cell_type": "code",
   "execution_count": 560,
   "id": "af5298e3",
   "metadata": {},
   "outputs": [
    {
     "name": "stdout",
     "output_type": "stream",
     "text": [
      "┏━━━┳━━━┳━━━┳━━━┳━━━┓\n",
      "┃   ┃   ┃   ┃   ┃   ┃\n",
      "┣━━━╋━━━╋━━━╋━━━╋━━━┫\n",
      "┃   ┃   ┃   ┃   ┃   ┃\n",
      "┣━━━╋━━━╋━━━╋━━━╋━━━┫\n",
      "┃   ┃   ┃   ┃   ┃   ┃\n",
      "┣━━━╋━━━╋━━━╋━━━╋━━━┫\n",
      "┃   ┃   ┃   ┃   ┃   ┃\n",
      "┣━━━╋━━━╋━━━╋━━━╋━━━┫\n",
      "┃   ┃   ┃   ┃   ┃   ┃\n",
      "┗━━━┻━━━┻━━━┻━━━┻━━━┛\n",
      "\n"
     ]
    }
   ],
   "source": [
    "laby.add_wall((0,0), (0,1))\n",
    "print(laby)"
   ]
  },
  {
   "cell_type": "code",
   "execution_count": 561,
   "id": "6dd4690f",
   "metadata": {},
   "outputs": [
    {
     "name": "stdout",
     "output_type": "stream",
     "text": [
      "┏━━━┳━━━┳━━━┳━━━┳━━━┓\n",
      "┃   ┃       ┃   ┃   ┃\n",
      "┣━━━╋━━━╋━━━╋━━━╋━━━┫\n",
      "┃   ┃   ┃   ┃   ┃   ┃\n",
      "┣━━━╋━━━╋━━━╋━━━╋━━━┫\n",
      "┃   ┃   ┃   ┃   ┃   ┃\n",
      "┣━━━╋━━━╋━━━╋━━━╋━━━┫\n",
      "┃   ┃   ┃   ┃   ┃   ┃\n",
      "┣━━━╋━━━╋━━━╋━━━╋━━━┫\n",
      "┃   ┃   ┃   ┃   ┃   ┃\n",
      "┗━━━┻━━━┻━━━┻━━━┻━━━┛\n",
      "\n"
     ]
    }
   ],
   "source": [
    "laby.remove_wall((0, 1), (0, 2))\n",
    "print(laby)"
   ]
  },
  {
   "cell_type": "code",
   "execution_count": 562,
   "id": "c1bdd96c",
   "metadata": {},
   "outputs": [
    {
     "name": "stdout",
     "output_type": "stream",
     "text": [
      "[((0, 0), (0, 1)), ((0, 0), (1, 0)), ((0, 1), (1, 1)), ((0, 2), (0, 3)), ((0, 2), (1, 2)), ((0, 3), (0, 4)), ((0, 3), (1, 3)), ((0, 4), (1, 4)), ((1, 0), (1, 1)), ((1, 0), (2, 0)), ((1, 1), (1, 2)), ((1, 1), (2, 1)), ((1, 2), (1, 3)), ((1, 2), (2, 2)), ((1, 3), (1, 4)), ((1, 3), (2, 3)), ((1, 4), (2, 4)), ((2, 0), (2, 1)), ((2, 0), (3, 0)), ((2, 1), (2, 2)), ((2, 1), (3, 1)), ((2, 2), (2, 3)), ((2, 2), (3, 2)), ((2, 3), (2, 4)), ((2, 3), (3, 3)), ((2, 4), (3, 4)), ((3, 0), (3, 1)), ((3, 0), (4, 0)), ((3, 1), (3, 2)), ((3, 1), (4, 1)), ((3, 2), (3, 3)), ((3, 2), (4, 2)), ((3, 3), (3, 4)), ((3, 3), (4, 3)), ((3, 4), (4, 4)), ((4, 0), (4, 1)), ((4, 1), (4, 2)), ((4, 2), (4, 3)), ((4, 3), (4, 4))]\n"
     ]
    }
   ],
   "source": [
    "print(laby.get_walls())"
   ]
  },
  {
   "cell_type": "code",
   "execution_count": 563,
   "id": "75503017",
   "metadata": {},
   "outputs": [
    {
     "data": {
      "text/plain": [
       "[(0, 0),\n",
       " (0, 1),\n",
       " (0, 2),\n",
       " (0, 3),\n",
       " (0, 4),\n",
       " (1, 0),\n",
       " (1, 1),\n",
       " (1, 2),\n",
       " (1, 3),\n",
       " (1, 4),\n",
       " (2, 0),\n",
       " (2, 1),\n",
       " (2, 2),\n",
       " (2, 3),\n",
       " (2, 4),\n",
       " (3, 0),\n",
       " (3, 1),\n",
       " (3, 2),\n",
       " (3, 3),\n",
       " (3, 4),\n",
       " (4, 0),\n",
       " (4, 1),\n",
       " (4, 2),\n",
       " (4, 3),\n",
       " (4, 4)]"
      ]
     },
     "execution_count": 563,
     "metadata": {},
     "output_type": "execute_result"
    }
   ],
   "source": [
    "laby = Maze(5,5)\n",
    "laby.get_cells()"
   ]
  },
  {
   "cell_type": "code",
   "execution_count": 564,
   "id": "2bd7002f",
   "metadata": {},
   "outputs": [
    {
     "name": "stdout",
     "output_type": "stream",
     "text": [
      "┏━━━┳━━━┳━━━┳━━━┳━━━┓\n",
      "┃   ┃       ┃   ┃   ┃\n",
      "┣━━━╋━━━╋━━━╋━━━╋━━━┫\n",
      "┃   ┃   ┃   ┃   ┃   ┃\n",
      "┣━━━╋━━━╋━━━╋━━━╋━━━┫\n",
      "┃   ┃   ┃   ┃   ┃   ┃\n",
      "┣━━━╋━━━╋━━━╋━━━╋━━━┫\n",
      "┃   ┃   ┃   ┃   ┃   ┃\n",
      "┣━━━╋━━━╋━━━╋━━━╋━━━┫\n",
      "┃   ┃   ┃   ┃   ┃   ┃\n",
      "┗━━━┻━━━┻━━━┻━━━┻━━━┛\n",
      "\n"
     ]
    }
   ],
   "source": [
    "laby.remove_wall((0, 1), (0, 2))\n",
    "print(laby)\n"
   ]
  },
  {
   "cell_type": "code",
   "execution_count": 565,
   "id": "5ed5a4c3",
   "metadata": {},
   "outputs": [
    {
     "name": "stdout",
     "output_type": "stream",
     "text": [
      "┏━━━┳━━━┳━━━┳━━━┳━━━┓\n",
      "┃   ┃   ┃   ┃   ┃   ┃\n",
      "┣━━━╋━━━╋━━━╋━━━╋━━━┫\n",
      "┃   ┃   ┃   ┃   ┃   ┃\n",
      "┣━━━╋━━━╋━━━╋━━━╋━━━┫\n",
      "┃   ┃   ┃   ┃   ┃   ┃\n",
      "┣━━━╋━━━╋━━━╋━━━╋━━━┫\n",
      "┃   ┃   ┃   ┃   ┃   ┃\n",
      "┣━━━╋━━━╋━━━╋━━━╋━━━┫\n",
      "┃   ┃   ┃   ┃   ┃   ┃\n",
      "┗━━━┻━━━┻━━━┻━━━┻━━━┛\n",
      "\n"
     ]
    }
   ],
   "source": [
    "laby.fill()\n",
    "print(laby)"
   ]
  },
  {
   "cell_type": "code",
   "execution_count": 566,
   "id": "e6bfa59a",
   "metadata": {},
   "outputs": [
    {
     "name": "stdout",
     "output_type": "stream",
     "text": [
      "┏━━━┳━━━┳━━━┳━━━┳━━━┓\n",
      "┃                   ┃\n",
      "┣   ╋   ╋   ╋   ╋   ┫\n",
      "┃                   ┃\n",
      "┣   ╋   ╋   ╋   ╋   ┫\n",
      "┃                   ┃\n",
      "┣   ╋   ╋   ╋   ╋   ┫\n",
      "┃                   ┃\n",
      "┣   ╋   ╋   ╋   ╋   ┫\n",
      "┃                   ┃\n",
      "┗━━━┻━━━┻━━━┻━━━┻━━━┛\n",
      "\n"
     ]
    }
   ],
   "source": [
    "laby.empty()\n",
    "print(laby)"
   ]
  },
  {
   "cell_type": "code",
   "execution_count": 567,
   "id": "dd6ea3af",
   "metadata": {},
   "outputs": [
    {
     "name": "stdout",
     "output_type": "stream",
     "text": [
      "[(0, 1), (1, 0)]\n"
     ]
    }
   ],
   "source": [
    "print(laby.get_contiguous_cells((0,0)))"
   ]
  },
  {
   "cell_type": "code",
   "execution_count": 568,
   "id": "abd7797a",
   "metadata": {},
   "outputs": [
    {
     "name": "stdout",
     "output_type": "stream",
     "text": [
      "[(0, 1)]\n"
     ]
    }
   ],
   "source": [
    "laby.add_wall((0,0),(1,0))\n",
    "print(laby.get_reachable_cells((0,0)))"
   ]
  },
  {
   "cell_type": "code",
   "execution_count": 569,
   "id": "00669db6",
   "metadata": {},
   "outputs": [
    {
     "name": "stdout",
     "output_type": "stream",
     "text": [
      "┏━━━┳━━━┳━━━┳━━━┳━━━┓\n",
      "┃                   ┃\n",
      "┣━━━╋   ╋   ╋   ╋   ┫\n",
      "┃                   ┃\n",
      "┣   ╋   ╋   ╋   ╋   ┫\n",
      "┃                   ┃\n",
      "┣   ╋   ╋   ╋   ╋   ┫\n",
      "┃                   ┃\n",
      "┣   ╋   ╋   ╋   ╋   ┫\n",
      "┃                   ┃\n",
      "┗━━━┻━━━┻━━━┻━━━┻━━━┛\n",
      "\n",
      "[((0, 0), (1, 0))]\n"
     ]
    }
   ],
   "source": [
    "print(laby)\n",
    "print(laby.get_walls())"
   ]
  },
  {
   "cell_type": "code",
   "execution_count": 570,
   "id": "f9e6f536",
   "metadata": {},
   "outputs": [],
   "source": [
    "laby = Maze.gen_btree(10,10)"
   ]
  },
  {
   "cell_type": "code",
   "execution_count": 571,
   "id": "1efa6535",
   "metadata": {},
   "outputs": [
    {
     "name": "stdout",
     "output_type": "stream",
     "text": [
      "┏━━━┳━━━┳━━━┳━━━┳━━━┳━━━┳━━━┳━━━┳━━━┳━━━┓\n",
      "┃   ┃   ┃               ┃   ┃   ┃   ┃   ┃\n",
      "┣   ╋   ╋━━━╋━━━╋━━━╋   ╋   ╋   ╋   ╋   ┫\n",
      "┃                   ┃           ┃       ┃\n",
      "┣━━━╋━━━╋━━━╋━━━╋   ╋━━━╋━━━╋   ╋━━━╋   ┫\n",
      "┃       ┃   ┃   ┃   ┃                   ┃\n",
      "┣━━━╋   ╋   ╋   ╋   ╋━━━╋━━━╋━━━╋━━━╋   ┫\n",
      "┃   ┃       ┃               ┃       ┃   ┃\n",
      "┣   ╋━━━╋   ╋━━━╋━━━╋━━━╋   ╋━━━╋   ╋   ┫\n",
      "┃   ┃           ┃   ┃       ┃       ┃   ┃\n",
      "┣   ╋━━━╋━━━╋   ╋   ╋━━━╋   ╋━━━╋   ╋   ┫\n",
      "┃       ┃   ┃           ┃       ┃   ┃   ┃\n",
      "┣━━━╋   ╋   ╋━━━╋━━━╋   ╋━━━╋   ╋   ╋   ┫\n",
      "┃   ┃   ┃       ┃                       ┃\n",
      "┣   ╋   ╋━━━╋   ╋━━━╋━━━╋━━━╋━━━╋━━━╋   ┫\n",
      "┃       ┃   ┃   ┃   ┃   ┃               ┃\n",
      "┣━━━╋   ╋   ╋   ╋   ╋   ╋━━━╋━━━╋━━━╋   ┫\n",
      "┃   ┃       ┃           ┃       ┃   ┃   ┃\n",
      "┣   ╋━━━╋   ╋━━━╋━━━╋   ╋━━━╋   ╋   ╋   ┫\n",
      "┃                                       ┃\n",
      "┗━━━┻━━━┻━━━┻━━━┻━━━┻━━━┻━━━┻━━━┻━━━┻━━━┛\n",
      "\n"
     ]
    }
   ],
   "source": [
    "print(laby)"
   ]
  },
  {
   "cell_type": "code",
   "execution_count": 597,
   "id": "0c243239",
   "metadata": {},
   "outputs": [
    {
     "name": "stdout",
     "output_type": "stream",
     "text": [
      "┏━━━┳━━━┳━━━┳━━━┳━━━┳━━━┳━━━┳━━━┳━━━┳━━━┓\n",
      "┃           ┃       ┃       ┃           ┃\n",
      "┣━━━╋━━━╋   ╋━━━╋   ╋   ╋━━━╋   ╋━━━╋━━━┫\n",
      "┃   ┃       ┃   ┃   ┃   ┃   ┃       ┃   ┃\n",
      "┣   ╋   ╋━━━╋   ╋   ╋   ╋   ╋   ╋━━━╋   ┫\n",
      "┃           ┃       ┃   ┃   ┃   ┃   ┃   ┃\n",
      "┣   ╋━━━╋━━━╋━━━╋   ╋   ╋   ╋   ╋   ╋   ┫\n",
      "┃                   ┃       ┃       ┃   ┃\n",
      "┣━━━╋   ╋━━━╋━━━╋━━━╋━━━╋   ╋━━━╋   ╋   ┫\n",
      "┃   ┃   ┃       ┃       ┃       ┃       ┃\n",
      "┣   ╋   ╋━━━╋   ╋━━━╋   ╋   ╋━━━╋━━━╋   ┫\n",
      "┃       ┃       ┃           ┃           ┃\n",
      "┣   ╋━━━╋   ╋━━━╋   ╋━━━╋━━━╋   ╋━━━╋━━━┫\n",
      "┃   ┃       ┃   ┃       ┃       ┃       ┃\n",
      "┣   ╋   ╋━━━╋   ╋━━━╋   ╋   ╋━━━╋━━━╋   ┫\n",
      "┃       ┃   ┃       ┃               ┃   ┃\n",
      "┣━━━╋   ╋   ╋━━━╋   ╋━━━╋   ╋━━━╋━━━╋   ┫\n",
      "┃       ┃   ┃   ┃       ┃       ┃   ┃   ┃\n",
      "┣   ╋━━━╋   ╋   ╋━━━╋   ╋   ╋━━━╋   ╋   ┫\n",
      "┃                                       ┃\n",
      "┗━━━┻━━━┻━━━┻━━━┻━━━┻━━━┻━━━┻━━━┻━━━┻━━━┛\n",
      "\n"
     ]
    }
   ],
   "source": [
    "laby = Maze.gen_sidewinder(10, 10)\n",
    "print(laby)"
   ]
  },
  {
   "cell_type": "code",
   "execution_count": null,
   "id": "5c03de59",
   "metadata": {},
   "outputs": [],
   "source": []
  },
  {
   "cell_type": "code",
   "execution_count": null,
   "id": "08e43d7e",
   "metadata": {},
   "outputs": [],
   "source": []
  }
 ],
 "metadata": {
  "kernelspec": {
   "display_name": "Python 3 (ipykernel)",
   "language": "python",
   "name": "python3"
  },
  "language_info": {
   "codemirror_mode": {
    "name": "ipython",
    "version": 3
   },
   "file_extension": ".py",
   "mimetype": "text/x-python",
   "name": "python",
   "nbconvert_exporter": "python",
   "pygments_lexer": "ipython3",
   "version": "3.12.0"
  }
 },
 "nbformat": 4,
 "nbformat_minor": 5
}
